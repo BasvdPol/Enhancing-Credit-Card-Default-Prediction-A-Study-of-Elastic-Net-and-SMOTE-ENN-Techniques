{
 "cells": [
  {
   "cell_type": "code",
   "execution_count": null,
   "metadata": {},
   "outputs": [],
   "source": [
    "################################ RF without any resampling techniques ################################"
   ]
  },
  {
   "cell_type": "code",
   "execution_count": null,
   "metadata": {},
   "outputs": [],
   "source": [
    "#### Uploading the dataset and make some changes ####"
   ]
  },
  {
   "cell_type": "code",
   "execution_count": 1,
   "metadata": {},
   "outputs": [],
   "source": [
    "# Start with importing the Taiwanese bank dataset.\n",
    "import pandas as pd\n",
    "\n",
    "df = pd.read_csv('C:/Users/basvd/OneDrive/Documenten/Tilburg University/Master Data Science & Society/Thesis/Data sets/Taiwan 2005 default credit card data set.csv')\n"
   ]
  },
  {
   "cell_type": "code",
   "execution_count": 2,
   "metadata": {},
   "outputs": [
    {
     "name": "stdout",
     "output_type": "stream",
     "text": [
      "   ID  LIMIT_BAL  SEX  EDUCATION  MARRIAGE  AGE  PAY_0  PAY_2  PAY_3  PAY_4  \\\n",
      "0   1    20000.0    2          2         1   24      2      2     -1     -1   \n",
      "1   2   120000.0    2          2         2   26     -1      2      0      0   \n",
      "2   3    90000.0    2          2         2   34      0      0      0      0   \n",
      "3   4    50000.0    2          2         1   37      0      0      0      0   \n",
      "4   5    50000.0    1          2         1   57     -1      0     -1      0   \n",
      "\n",
      "   ...  BILL_AMT4  BILL_AMT5  BILL_AMT6  PAY_AMT1  PAY_AMT2  PAY_AMT3  \\\n",
      "0  ...        0.0        0.0        0.0       0.0     689.0       0.0   \n",
      "1  ...     3272.0     3455.0     3261.0       0.0    1000.0    1000.0   \n",
      "2  ...    14331.0    14948.0    15549.0    1518.0    1500.0    1000.0   \n",
      "3  ...    28314.0    28959.0    29547.0    2000.0    2019.0    1200.0   \n",
      "4  ...    20940.0    19146.0    19131.0    2000.0   36681.0   10000.0   \n",
      "\n",
      "   PAY_AMT4  PAY_AMT5  PAY_AMT6  default.payment.next.month  \n",
      "0       0.0       0.0       0.0                           1  \n",
      "1    1000.0       0.0    2000.0                           1  \n",
      "2    1000.0    1000.0    5000.0                           0  \n",
      "3    1100.0    1069.0    1000.0                           0  \n",
      "4    9000.0     689.0     679.0                           0  \n",
      "\n",
      "[5 rows x 25 columns]\n"
     ]
    }
   ],
   "source": [
    "# Show how to dataset looks like.\n",
    "print(df.head())"
   ]
  },
  {
   "cell_type": "code",
   "execution_count": 3,
   "metadata": {},
   "outputs": [
    {
     "name": "stdout",
     "output_type": "stream",
     "text": [
      "   LIMIT_BAL  SEX  EDUCATION  MARRIAGE  AGE  PAY_0  PAY_2  PAY_3  PAY_4  \\\n",
      "0    20000.0    2          2         1   24      2      2     -1     -1   \n",
      "1   120000.0    2          2         2   26     -1      2      0      0   \n",
      "2    90000.0    2          2         2   34      0      0      0      0   \n",
      "3    50000.0    2          2         1   37      0      0      0      0   \n",
      "4    50000.0    1          2         1   57     -1      0     -1      0   \n",
      "\n",
      "   PAY_5  ...  BILL_AMT4  BILL_AMT5  BILL_AMT6  PAY_AMT1  PAY_AMT2  PAY_AMT3  \\\n",
      "0     -2  ...        0.0        0.0        0.0       0.0     689.0       0.0   \n",
      "1      0  ...     3272.0     3455.0     3261.0       0.0    1000.0    1000.0   \n",
      "2      0  ...    14331.0    14948.0    15549.0    1518.0    1500.0    1000.0   \n",
      "3      0  ...    28314.0    28959.0    29547.0    2000.0    2019.0    1200.0   \n",
      "4      0  ...    20940.0    19146.0    19131.0    2000.0   36681.0   10000.0   \n",
      "\n",
      "   PAY_AMT4  PAY_AMT5  PAY_AMT6  default.payment.next.month  \n",
      "0       0.0       0.0       0.0                           1  \n",
      "1    1000.0       0.0    2000.0                           1  \n",
      "2    1000.0    1000.0    5000.0                           0  \n",
      "3    1100.0    1069.0    1000.0                           0  \n",
      "4    9000.0     689.0     679.0                           0  \n",
      "\n",
      "[5 rows x 24 columns]\n"
     ]
    }
   ],
   "source": [
    "#Drop the ID column, since it has no value to the models that need to be made.\n",
    "df = df.drop(df.columns[0], axis=1)\n",
    "print(df.head())"
   ]
  },
  {
   "cell_type": "code",
   "execution_count": 4,
   "metadata": {},
   "outputs": [
    {
     "data": {
      "text/plain": [
       "LIMIT_BAL                     0\n",
       "SEX                           0\n",
       "EDUCATION                     0\n",
       "MARRIAGE                      0\n",
       "AGE                           0\n",
       "PAY_0                         0\n",
       "PAY_2                         0\n",
       "PAY_3                         0\n",
       "PAY_4                         0\n",
       "PAY_5                         0\n",
       "PAY_6                         0\n",
       "BILL_AMT1                     0\n",
       "BILL_AMT2                     0\n",
       "BILL_AMT3                     0\n",
       "BILL_AMT4                     0\n",
       "BILL_AMT5                     0\n",
       "BILL_AMT6                     0\n",
       "PAY_AMT1                      0\n",
       "PAY_AMT2                      0\n",
       "PAY_AMT3                      0\n",
       "PAY_AMT4                      0\n",
       "PAY_AMT5                      0\n",
       "PAY_AMT6                      0\n",
       "default.payment.next.month    0\n",
       "dtype: int64"
      ]
     },
     "execution_count": 4,
     "metadata": {},
     "output_type": "execute_result"
    }
   ],
   "source": [
    "# See if there is any row with NA values in there.\n",
    "## Below shows that there is no row with an NA value, meaning that we do not have to drop any row or fill it with, for example, the average.\n",
    "df.isnull().sum()"
   ]
  },
  {
   "cell_type": "code",
   "execution_count": 5,
   "metadata": {},
   "outputs": [
    {
     "name": "stdout",
     "output_type": "stream",
     "text": [
      "       LIMIT_BAL  SEX  EDUCATION  MARRIAGE       AGE  PAY_0  PAY_2  PAY_3  \\\n",
      "0       0.010101    2          2         1  0.051724      2      2     -1   \n",
      "1       0.111111    2          2         2  0.086207     -1      2      0   \n",
      "2       0.080808    2          2         2  0.224138      0      0      0   \n",
      "3       0.040404    2          2         1  0.275862      0      0      0   \n",
      "4       0.040404    1          2         1  0.620690     -1      0     -1   \n",
      "...          ...  ...        ...       ...       ...    ...    ...    ...   \n",
      "29995   0.212121    1          3         1  0.310345      0      0      0   \n",
      "29996   0.141414    1          3         2  0.379310     -1     -1     -1   \n",
      "29997   0.020202    1          2         2  0.275862      4      3      2   \n",
      "29998   0.070707    1          3         1  0.344828      1     -1      0   \n",
      "29999   0.040404    1          2         1  0.431034      0      0      0   \n",
      "\n",
      "       PAY_4  PAY_5  ...  BILL_AMT4  BILL_AMT5  BILL_AMT6  PAY_AMT1  PAY_AMT2  \\\n",
      "0         -1     -2  ...   0.160138   0.080648   0.260979  0.000000  0.000409   \n",
      "1          0      0  ...   0.163220   0.084074   0.263485  0.000000  0.000594   \n",
      "2          0      0  ...   0.173637   0.095470   0.272928  0.001738  0.000891   \n",
      "3          0      0  ...   0.186809   0.109363   0.283685  0.002290  0.001199   \n",
      "4          0      0  ...   0.179863   0.099633   0.275681  0.002290  0.021779   \n",
      "...      ...    ...  ...        ...        ...        ...       ...       ...   \n",
      "29995      0      0  ...   0.243036   0.111622   0.273259  0.009730  0.011875   \n",
      "29996     -1      0  ...   0.168596   0.085794   0.260979  0.002103  0.002094   \n",
      "29997     -1      0  ...   0.179805   0.101057   0.275854  0.000000  0.000000   \n",
      "29998      0      0  ...   0.209850   0.092403   0.298591  0.098334  0.002024   \n",
      "29999      0      0  ...   0.194553   0.112803   0.272746  0.002379  0.001069   \n",
      "\n",
      "       PAY_AMT3  PAY_AMT4  PAY_AMT5  PAY_AMT6  default.payment.next.month  \n",
      "0      0.000000  0.000000  0.000000  0.000000                           1  \n",
      "1      0.001116  0.001610  0.000000  0.003783                           1  \n",
      "2      0.001116  0.001610  0.002345  0.009458                           0  \n",
      "3      0.001339  0.001771  0.002506  0.001892                           0  \n",
      "4      0.011160  0.014493  0.001615  0.001284                           0  \n",
      "...         ...       ...       ...       ...                         ...  \n",
      "29995  0.005583  0.004907  0.011723  0.001892                           0  \n",
      "29996  0.010042  0.000208  0.000000  0.000000                           0  \n",
      "29997  0.024552  0.006763  0.004689  0.005864                           1  \n",
      "29998  0.001315  0.003101  0.124174  0.003412                           1  \n",
      "29999  0.001596  0.001610  0.002345  0.001892                           1  \n",
      "\n",
      "[30000 rows x 24 columns]\n"
     ]
    }
   ],
   "source": [
    "# Normalize (just like in the last paper) the non-categorical independent variables.\n",
    "from sklearn.preprocessing import MinMaxScaler\n",
    "\n",
    "# Specify the columns you want to normalize\n",
    "columns_to_normalize = ['LIMIT_BAL', 'BILL_AMT1', 'BILL_AMT2', 'BILL_AMT3', \n",
    "                        'BILL_AMT4', 'BILL_AMT5', 'BILL_AMT6', 'PAY_AMT1', \n",
    "                        'PAY_AMT2', 'PAY_AMT3', 'PAY_AMT4', 'PAY_AMT5', 'PAY_AMT6', 'AGE']\n",
    "\n",
    "# Create a MinMaxScaler object\n",
    "scaler = MinMaxScaler()\n",
    "\n",
    "# Fit the scaler to the specified columns and transform them\n",
    "df[columns_to_normalize] = scaler.fit_transform(df[columns_to_normalize])\n",
    "\n",
    "# Display the normalized DataFrame\n",
    "print(df)\n"
   ]
  },
  {
   "cell_type": "code",
   "execution_count": 6,
   "metadata": {},
   "outputs": [
    {
     "name": "stdout",
     "output_type": "stream",
     "text": [
      "Minimum values:\n",
      "LIMIT_BAL                     0.0\n",
      "SEX                           1.0\n",
      "EDUCATION                     0.0\n",
      "MARRIAGE                      0.0\n",
      "AGE                           0.0\n",
      "PAY_0                        -2.0\n",
      "PAY_2                        -2.0\n",
      "PAY_3                        -2.0\n",
      "PAY_4                        -2.0\n",
      "PAY_5                        -2.0\n",
      "PAY_6                        -2.0\n",
      "BILL_AMT1                     0.0\n",
      "BILL_AMT2                     0.0\n",
      "BILL_AMT3                     0.0\n",
      "BILL_AMT4                     0.0\n",
      "BILL_AMT5                     0.0\n",
      "BILL_AMT6                     0.0\n",
      "PAY_AMT1                      0.0\n",
      "PAY_AMT2                      0.0\n",
      "PAY_AMT3                      0.0\n",
      "PAY_AMT4                      0.0\n",
      "PAY_AMT5                      0.0\n",
      "PAY_AMT6                      0.0\n",
      "default.payment.next.month    0.0\n",
      "dtype: float64\n",
      "\n",
      "Maximum values:\n",
      "LIMIT_BAL                     1.0\n",
      "SEX                           2.0\n",
      "EDUCATION                     6.0\n",
      "MARRIAGE                      3.0\n",
      "AGE                           1.0\n",
      "PAY_0                         8.0\n",
      "PAY_2                         8.0\n",
      "PAY_3                         8.0\n",
      "PAY_4                         8.0\n",
      "PAY_5                         8.0\n",
      "PAY_6                         8.0\n",
      "BILL_AMT1                     1.0\n",
      "BILL_AMT2                     1.0\n",
      "BILL_AMT3                     1.0\n",
      "BILL_AMT4                     1.0\n",
      "BILL_AMT5                     1.0\n",
      "BILL_AMT6                     1.0\n",
      "PAY_AMT1                      1.0\n",
      "PAY_AMT2                      1.0\n",
      "PAY_AMT3                      1.0\n",
      "PAY_AMT4                      1.0\n",
      "PAY_AMT5                      1.0\n",
      "PAY_AMT6                      1.0\n",
      "default.payment.next.month    1.0\n",
      "dtype: float64\n"
     ]
    }
   ],
   "source": [
    "# Print the minimum and maximum values of the columns to check if they are indeed normalised.\n",
    "print(\"Minimum values:\")\n",
    "print(df.min())\n",
    "\n",
    "print(\"\\nMaximum values:\")\n",
    "print(df.max())\n"
   ]
  },
  {
   "cell_type": "code",
   "execution_count": 7,
   "metadata": {},
   "outputs": [
    {
     "name": "stdout",
     "output_type": "stream",
     "text": [
      "Original dataset shape Counter({0: 23364, 1: 6636})\n"
     ]
    }
   ],
   "source": [
    "from collections import Counter\n",
    "\n",
    "# First we will see how the classes are divided.\n",
    "input_cols = df.drop(columns='default.payment.next.month')\n",
    "target_col = df['default.payment.next.month']\n",
    "print('Original dataset shape %s' % Counter(target_col))\n"
   ]
  },
  {
   "cell_type": "code",
   "execution_count": null,
   "metadata": {},
   "outputs": [],
   "source": [
    "################# Without any resampling technique #################"
   ]
  },
  {
   "cell_type": "code",
   "execution_count": null,
   "metadata": {},
   "outputs": [],
   "source": [
    "#### Nested K-fold cross-validation without any resampling technique ####"
   ]
  },
  {
   "cell_type": "code",
   "execution_count": 8,
   "metadata": {},
   "outputs": [
    {
     "name": "stdout",
     "output_type": "stream",
     "text": [
      "              precision    recall  f1-score   support\n",
      "\n",
      "           0     0.8396    0.9407    0.8873     23364\n",
      "           1     0.6375    0.3672    0.4660      6636\n",
      "\n",
      "    accuracy                         0.8138     30000\n",
      "   macro avg     0.7385    0.6540    0.6766     30000\n",
      "weighted avg     0.7949    0.8138    0.7941     30000\n",
      "\n"
     ]
    }
   ],
   "source": [
    "# Automatic nested cross-validation for random forest on a classification dataset\n",
    "from numpy import mean\n",
    "from numpy import std\n",
    "from sklearn.datasets import make_classification\n",
    "from sklearn.model_selection import cross_val_score\n",
    "from sklearn.model_selection import KFold\n",
    "from sklearn.model_selection import GridSearchCV\n",
    "from sklearn.ensemble import RandomForestClassifier\n",
    "from sklearn.metrics import classification_report\n",
    "from sklearn.model_selection import cross_val_predict\n",
    "\n",
    "# configure the cross-validation procedure\n",
    "cv_inner = KFold(n_splits=3, shuffle=True, random_state=42)\n",
    "# define the model\n",
    "model = RandomForestClassifier(random_state=42)\n",
    "# define search space\n",
    "space = dict()\n",
    "space['n_estimators'] = [40, 50, 60]\n",
    "space['max_features'] = [None, 5, 10]\n",
    "# define search\n",
    "search = GridSearchCV(model, space, scoring='f1', n_jobs=1, cv=cv_inner, refit=True)\n",
    "# configure the cross-validation procedure\n",
    "cv_outer = KFold(n_splits=10, shuffle=True, random_state=1)\n",
    "\n",
    "# Execute the nested cross-validation\n",
    "predicted_labels = cross_val_predict(search, input_cols, target_col, cv=cv_outer, n_jobs=-1)\n",
    "\n",
    "# Generate the classification report\n",
    "report = classification_report(target_col, predicted_labels, digits=4)\n",
    "print(report)"
   ]
  },
  {
   "cell_type": "code",
   "execution_count": 45,
   "metadata": {},
   "outputs": [
    {
     "name": "stdout",
     "output_type": "stream",
     "text": [
      "Recall: 0.3672\n",
      "Accuracy: 0.8138\n",
      "Precision: 0.6375\n",
      "F1 Score: 0.4660\n"
     ]
    }
   ],
   "source": [
    "from sklearn.metrics import precision_score, recall_score, accuracy_score, f1_score\n",
    "\n",
    "# Calculate recall, accuracy, and precision on the test set\n",
    "recall = recall_score(target_col, predicted_labels)\n",
    "print(\"Recall:\", \"{:.4f}\".format(recall))\n",
    "\n",
    "accuracy = accuracy_score(target_col, predicted_labels)\n",
    "print(\"Accuracy:\", \"{:.4f}\".format(accuracy))\n",
    "\n",
    "precision = precision_score(target_col, predicted_labels)\n",
    "print(\"Precision:\", \"{:.4f}\".format(precision))\n",
    "\n",
    "f1 = f1_score(target_col, predicted_labels)\n",
    "print(\"F1 Score:\", \"{:.4f}\".format(f1))"
   ]
  },
  {
   "cell_type": "code",
   "execution_count": 46,
   "metadata": {},
   "outputs": [
    {
     "name": "stdout",
     "output_type": "stream",
     "text": [
      "Confusion Matrix:\n",
      "[[21978  1386]\n",
      " [ 4199  2437]]\n"
     ]
    }
   ],
   "source": [
    "# Calculate confusion matrix\n",
    "from sklearn.metrics import confusion_matrix\n",
    "conf_matrix = confusion_matrix(target_col, predicted_labels)\n",
    "print(\"Confusion Matrix:\")\n",
    "print(conf_matrix)"
   ]
  },
  {
   "cell_type": "code",
   "execution_count": 47,
   "metadata": {},
   "outputs": [
    {
     "data": {
      "image/png": "[encoded data removed]",
      "text/plain": [
       "<Figure size 800x600 with 2 Axes>"
      ]
     },
     "metadata": {},
     "output_type": "display_data"
    }
   ],
   "source": [
    "import matplotlib.pyplot as plt\n",
    "import seaborn as sns\n",
    "from sklearn.metrics import confusion_matrix\n",
    "\n",
    "# Define plot_confusion_matrix function\n",
    "def plot_confusion_matrix(cm, set_name):\n",
    "    plt.figure(figsize=(8, 6))\n",
    "    sns.heatmap(cm, annot=True, fmt=\"d\", cmap=\"Blues\")\n",
    "    plt.title(f\"Confusion Matrix of the best not resampled Random Forest model\")\n",
    "    plt.xlabel(\"Predicted Label\")\n",
    "    plt.ylabel(\"True Label\")\n",
    "    plt.show()\n",
    "\n",
    "# Calculate confusion matrix\n",
    "conf_matrix = confusion_matrix(target_col, predicted_labels)\n",
    "\n",
    "# Plot confusion matrix\n",
    "plot_confusion_matrix(conf_matrix, \"Test\")\n"
   ]
  },
  {
   "cell_type": "code",
   "execution_count": 48,
   "metadata": {},
   "outputs": [
    {
     "name": "stdout",
     "output_type": "stream",
     "text": [
      "Best Hyperparameters: {'max_features': 10, 'n_estimators': 50}\n"
     ]
    },
    {
     "data": {
      "image/png": "[encoded data removed]",
      "text/plain": [
       "<Figure size 640x480 with 1 Axes>"
      ]
     },
     "metadata": {},
     "output_type": "display_data"
    }
   ],
   "source": [
    "# Best hyperparameters and feature importance\n",
    "import matplotlib.pyplot as plt\n",
    "import pandas as pd\n",
    "search.fit(input_cols, target_col)\n",
    "\n",
    "# Access the best hyperparameters\n",
    "best_params = search.best_params_\n",
    "print(\"Best Hyperparameters:\", best_params)\n",
    "\n",
    "importances = pd.Series(data=search.best_estimator_.feature_importances_, index=input_cols.columns)\n",
    "\n",
    "# Sort importances\n",
    "importances_sorted = importances.sort_values()\n",
    "\n",
    "# Draw a horizontal barplot of importances_sorted\n",
    "importances_sorted.plot(kind='barh', color='lightgreen')\n",
    "plt.title('Feature Importance of the best not resampled Random Forest model')\n",
    "plt.xlabel('Importance')\n",
    "plt.ylabel('Feature')\n",
    "plt.show()\n",
    "\n"
   ]
  },
  {
   "cell_type": "code",
   "execution_count": null,
   "metadata": {},
   "outputs": [],
   "source": [
    "#### Normal Random Forest without any resampling technique ####"
   ]
  },
  {
   "cell_type": "code",
   "execution_count": 9,
   "metadata": {},
   "outputs": [
    {
     "name": "stdout",
     "output_type": "stream",
     "text": [
      "(18000, 23)\n",
      "(6000, 23)\n",
      "(6000, 23)\n",
      "(6000,)\n",
      "(18000,)\n",
      "(6000,)\n"
     ]
    }
   ],
   "source": [
    "# Splitting the dataset into training and test sets\n",
    "from sklearn.model_selection import train_test_split\n",
    "\n",
    "X_train, X_test, y_train, y_test = train_test_split(input_cols, target_col, random_state=42, test_size=0.2)\n",
    "\n",
    "# Further splitting the training set into training and validation sets\n",
    "X_train, X_valid, y_train, y_valid = train_test_split(X_train, y_train, random_state=42, test_size=0.25)\n",
    "\n",
    "print(X_train.shape)\n",
    "print(X_test.shape)\n",
    "print(X_valid.shape)\n",
    "print(y_valid.shape)\n",
    "print(y_train.shape)\n",
    "print(y_test.shape)"
   ]
  },
  {
   "cell_type": "code",
   "execution_count": 25,
   "metadata": {},
   "outputs": [
    {
     "name": "stdout",
     "output_type": "stream",
     "text": [
      "F1 Score: 0.4635\n",
      "              precision    recall  f1-score   support\n",
      "\n",
      "           0       0.84      0.95      0.89      4684\n",
      "           1       0.66      0.36      0.46      1316\n",
      "\n",
      "    accuracy                           0.82      6000\n",
      "   macro avg       0.75      0.65      0.68      6000\n",
      "weighted avg       0.80      0.82      0.80      6000\n",
      "\n"
     ]
    }
   ],
   "source": [
    "from sklearn.ensemble import RandomForestClassifier\n",
    "from sklearn.metrics import accuracy_score, classification_report\n",
    "rf = RandomForestClassifier(random_state=0).fit(X_train, y_train)\n",
    "y_pred = rf.predict(X_valid)\n",
    "\n",
    "# Calculate the F1 score and classification report\n",
    "rf_f1 = f1_score(y_valid, y_pred)\n",
    "print(\"F1 Score:\", \"{:.4f}\".format(rf_f1))\n",
    "print(classification_report(y_valid, y_pred))"
   ]
  },
  {
   "cell_type": "code",
   "execution_count": 16,
   "metadata": {},
   "outputs": [
    {
     "data": {
      "text/plain": [
       "Text(0.5, 1.0, 'Features Importances')"
      ]
     },
     "execution_count": 16,
     "metadata": {},
     "output_type": "execute_result"
    },
    {
     "data": {
      "image/png": "[encoded data removed]",
      "text/plain": [
       "<Figure size 640x480 with 1 Axes>"
      ]
     },
     "metadata": {},
     "output_type": "display_data"
    }
   ],
   "source": [
    "#Feature importance\n",
    "import matplotlib.pyplot as plt\n",
    "importances = pd.Series(data=rf.feature_importances_, index=X_train.columns)\n",
    "\n",
    "# Sort importances\n",
    "importances_sorted = importances.sort_values()\n",
    "\n",
    "# Draw a horizontal barplot of importances_sorted\n",
    "importances_sorted.plot(kind='barh', color='lightgreen')\n",
    "plt.title('Features Importances')"
   ]
  },
  {
   "cell_type": "code",
   "execution_count": 11,
   "metadata": {},
   "outputs": [
    {
     "data": {
      "image/png": "[encoded data removed]",
      "text/plain": [
       "<Figure size 640x480 with 1 Axes>"
      ]
     },
     "metadata": {},
     "output_type": "display_data"
    }
   ],
   "source": [
    "import numpy as np\n",
    "import matplotlib.pyplot as plt\n",
    "from sklearn.ensemble import RandomForestClassifier\n",
    "from sklearn.metrics import f1_score\n",
    "\n",
    "# Define a range of values for the number of trees\n",
    "num_trees_range = [10, 20, 30, 40, 50, 60, 70, 80, 90, 100]\n",
    "\n",
    "# Initialize lists to store F1-scores for training and validation sets\n",
    "train_f1_scores = []\n",
    "test_f1_scores = []\n",
    "\n",
    "# Train RandomForestClassifier models with different numbers of trees\n",
    "for num_trees in num_trees_range:\n",
    "    # Create and train the model\n",
    "    rf = RandomForestClassifier(n_estimators=num_trees, random_state=0)\n",
    "    rf.fit(X_train, y_train)\n",
    "    \n",
    "    # Predict on training and validation sets\n",
    "    y_train_pred = rf.predict(X_train)\n",
    "    y_test_pred = rf.predict(X_test)\n",
    "    \n",
    "    # Calculate F1-scores for training and validation sets\n",
    "    train_f1 = f1_score(y_train, y_train_pred)\n",
    "    test_f1 = f1_score(y_test, y_test_pred)\n",
    "    \n",
    "    # Append F1-scores to the lists\n",
    "    train_f1_scores.append(train_f1)\n",
    "    test_f1_scores.append(test_f1)\n",
    "\n",
    "# Plot the F1-scores for training and validation sets against the number of trees\n",
    "plt.plot(num_trees_range, train_f1_scores, label='Training F1-score', marker='o')\n",
    "plt.plot(num_trees_range, test_f1_scores, label='Test F1-score', marker='o')\n",
    "plt.xlabel('Number of Trees')\n",
    "plt.ylabel('F1-score')\n",
    "plt.title('F1-score vs. Number of Trees in Random Forest without any resampling technique and hyperparameter tuning')\n",
    "plt.legend()\n",
    "plt.grid(True)\n",
    "plt.show()"
   ]
  },
  {
   "cell_type": "code",
   "execution_count": 26,
   "metadata": {},
   "outputs": [
    {
     "name": "stdout",
     "output_type": "stream",
     "text": [
      "F1 Score on Test Set: 0.4671\n",
      "Classification Report on Test Set:\n",
      "              precision    recall  f1-score   support\n",
      "\n",
      "           0       0.84      0.94      0.89      4687\n",
      "           1       0.64      0.37      0.47      1313\n",
      "\n",
      "    accuracy                           0.82      6000\n",
      "   macro avg       0.74      0.65      0.68      6000\n",
      "weighted avg       0.80      0.82      0.80      6000\n",
      "\n"
     ]
    }
   ],
   "source": [
    "# Predict labels on the test set\n",
    "y_pred_test = rf.predict(X_test)\n",
    "\n",
    "# Calculate the F1 score on the test set\n",
    "rf_f1_test = f1_score(y_test, y_pred_test)\n",
    "print(\"F1 Score on Test Set:\", \"{:.4f}\".format(rf_f1_test))\n",
    "\n",
    "print(\"Classification Report on Test Set:\")\n",
    "print(classification_report(y_test, y_pred_test))"
   ]
  },
  {
   "cell_type": "code",
   "execution_count": null,
   "metadata": {},
   "outputs": [],
   "source": [
    "#### Bagging without any resampling technique ####"
   ]
  },
  {
   "cell_type": "code",
   "execution_count": 29,
   "metadata": {},
   "outputs": [
    {
     "name": "stdout",
     "output_type": "stream",
     "text": [
      "F1 Score: 0.4687\n",
      "Classification Report:\n",
      "              precision    recall  f1-score   support\n",
      "\n",
      "           0       0.84      0.95      0.89      4684\n",
      "           1       0.68      0.36      0.47      1316\n",
      "\n",
      "    accuracy                           0.82      6000\n",
      "   macro avg       0.76      0.66      0.68      6000\n",
      "weighted avg       0.81      0.82      0.80      6000\n",
      "\n"
     ]
    }
   ],
   "source": [
    "# 10 Bags without any resampling technique\n",
    "from sklearn.ensemble import RandomForestClassifier, BaggingClassifier\n",
    "from sklearn.metrics import f1_score, classification_report\n",
    "\n",
    "# Create the RandomForestClassifier with 50 trees\n",
    "base_classifier = RandomForestClassifier(n_estimators=50, max_features=10, random_state=0)\n",
    "\n",
    "# Create a BaggingClassifier\n",
    "bagging_classifier_10 = BaggingClassifier(base_classifier, n_estimators=10, random_state=0)\n",
    "\n",
    "# Train the BaggingClassifier\n",
    "bagging_classifier_10.fit(X_train, y_train)\n",
    "\n",
    "# Predict using the BaggingClassifier\n",
    "y_pred_10 = bagging_classifier_10.predict(X_valid)\n",
    "\n",
    "# Calculate the f1-score and print classification report\n",
    "bagging_f1_10 = f1_score(y_valid, y_pred_10)\n",
    "print(\"F1 Score:\", \"{:.4f}\".format(bagging_f1_10))\n",
    "\n",
    "print(\"Classification Report:\")\n",
    "print(classification_report(y_valid, y_pred_10))"
   ]
  },
  {
   "cell_type": "code",
   "execution_count": 30,
   "metadata": {},
   "outputs": [
    {
     "name": "stdout",
     "output_type": "stream",
     "text": [
      "F1 Score: 0.4727\n",
      "Classification Report for Test Set:\n",
      "              precision    recall  f1-score   support\n",
      "\n",
      "           0       0.84      0.95      0.89      4687\n",
      "           1       0.66      0.37      0.47      1313\n",
      "\n",
      "    accuracy                           0.82      6000\n",
      "   macro avg       0.75      0.66      0.68      6000\n",
      "weighted avg       0.80      0.82      0.80      6000\n",
      "\n"
     ]
    }
   ],
   "source": [
    "# Predict using the BaggingClassifier on the test set\n",
    "y_pred_10_test = bagging_classifier_10.predict(X_test)\n",
    "\n",
    "# Calculate the F1-score and print classification report for the test set\n",
    "bagging_f1_10_test = f1_score(y_test, y_pred_10_test)\n",
    "print(\"F1 Score:\", \"{:.4f}\".format(bagging_f1_10_test))\n",
    "\n",
    "print(\"Classification Report for Test Set:\")\n",
    "print(classification_report(y_test, y_pred_10_test))"
   ]
  },
  {
   "cell_type": "code",
   "execution_count": 31,
   "metadata": {},
   "outputs": [
    {
     "name": "stdout",
     "output_type": "stream",
     "text": [
      "F1 Score: 0.4685\n",
      "Classification Report:\n",
      "              precision    recall  f1-score   support\n",
      "\n",
      "           0       0.84      0.95      0.89      4684\n",
      "           1       0.68      0.36      0.47      1316\n",
      "\n",
      "    accuracy                           0.82      6000\n",
      "   macro avg       0.76      0.66      0.68      6000\n",
      "weighted avg       0.80      0.82      0.80      6000\n",
      "\n"
     ]
    }
   ],
   "source": [
    "# 100 Bags without any resampling technique\n",
    "from sklearn.ensemble import RandomForestClassifier, BaggingClassifier\n",
    "from sklearn.metrics import accuracy_score, classification_report\n",
    "\n",
    "# Create the RandomForestClassifier with 50 trees\n",
    "base_classifier = RandomForestClassifier(n_estimators=50, max_features=10, random_state=0)\n",
    "\n",
    "# Create a BaggingClassifier\n",
    "bagging_classifier_100 = BaggingClassifier(base_classifier, n_estimators=100, random_state=0)\n",
    "\n",
    "# Train the BaggingClassifier\n",
    "bagging_classifier_100.fit(X_train, y_train)\n",
    "\n",
    "# Predict using the BaggingClassifier\n",
    "y_pred_100 = bagging_classifier_100.predict(X_valid)\n",
    "\n",
    "# Calculate the f1-score and print classification report\n",
    "bagging_f1_100 = f1_score(y_valid, y_pred_100)\n",
    "print(\"F1 Score:\", \"{:.4f}\".format(bagging_f1_100))\n",
    "\n",
    "print(\"Classification Report:\")\n",
    "print(classification_report(y_valid, y_pred_100))"
   ]
  },
  {
   "cell_type": "code",
   "execution_count": 32,
   "metadata": {},
   "outputs": [
    {
     "name": "stdout",
     "output_type": "stream",
     "text": [
      "F1 Score: 0.4731\n",
      "Classification Report for Test Set:\n",
      "              precision    recall  f1-score   support\n",
      "\n",
      "           0       0.84      0.95      0.89      4687\n",
      "           1       0.67      0.37      0.47      1313\n",
      "\n",
      "    accuracy                           0.82      6000\n",
      "   macro avg       0.76      0.66      0.68      6000\n",
      "weighted avg       0.80      0.82      0.80      6000\n",
      "\n"
     ]
    }
   ],
   "source": [
    "# Predict using the BaggingClassifier on the test set\n",
    "y_pred_100_test = bagging_classifier_100.predict(X_test)\n",
    "\n",
    "# Calculate the F1-score and print classification report for the test set\n",
    "bagging_f1_100_test = f1_score(y_test, y_pred_100_test)\n",
    "print(\"F1 Score:\", \"{:.4f}\".format(bagging_f1_100_test))\n",
    "\n",
    "print(\"Classification Report for Test Set:\")\n",
    "print(classification_report(y_test, y_pred_100_test))"
   ]
  },
  {
   "cell_type": "code",
   "execution_count": 33,
   "metadata": {},
   "outputs": [
    {
     "name": "stdout",
     "output_type": "stream",
     "text": [
      "F1 Score: 0.4685\n",
      "Classification Report:\n",
      "              precision    recall  f1-score   support\n",
      "\n",
      "           0       0.84      0.95      0.89      4684\n",
      "           1       0.67      0.36      0.47      1316\n",
      "\n",
      "    accuracy                           0.82      6000\n",
      "   macro avg       0.76      0.66      0.68      6000\n",
      "weighted avg       0.80      0.82      0.80      6000\n",
      "\n"
     ]
    }
   ],
   "source": [
    "# 25 Bags without any resampling technique\n",
    "from sklearn.ensemble import RandomForestClassifier, BaggingClassifier\n",
    "from sklearn.metrics import accuracy_score, classification_report\n",
    "\n",
    "# Create a base classifier (Random Forest in this case)\n",
    "base_classifier = RandomForestClassifier(random_state=0)\n",
    "\n",
    "# Create a BaggingClassifier\n",
    "bagging_classifier_25 = BaggingClassifier(base_classifier, n_estimators=25, random_state=0)\n",
    "\n",
    "# Train the BaggingClassifier\n",
    "bagging_classifier_25.fit(X_train, y_train)\n",
    "\n",
    "# Predict using the BaggingClassifier\n",
    "y_pred_25 = bagging_classifier_25.predict(X_valid)\n",
    "\n",
    "# Calculate the f1-score and print classification report\n",
    "bagging_f1_25 = f1_score(y_valid, y_pred_25)\n",
    "print(\"F1 Score:\", \"{:.4f}\".format(bagging_f1_25))\n",
    "\n",
    "print(\"Classification Report:\")\n",
    "print(classification_report(y_valid, y_pred_25))"
   ]
  },
  {
   "cell_type": "code",
   "execution_count": 34,
   "metadata": {},
   "outputs": [
    {
     "name": "stdout",
     "output_type": "stream",
     "text": [
      "F1 Score: 0.4698\n",
      "Classification Report for Test Set:\n",
      "              precision    recall  f1-score   support\n",
      "\n",
      "           0       0.84      0.95      0.89      4687\n",
      "           1       0.66      0.36      0.47      1313\n",
      "\n",
      "    accuracy                           0.82      6000\n",
      "   macro avg       0.75      0.66      0.68      6000\n",
      "weighted avg       0.80      0.82      0.80      6000\n",
      "\n"
     ]
    }
   ],
   "source": [
    "# Predict using the BaggingClassifier on the test set\n",
    "y_pred_25_test = bagging_classifier_25.predict(X_test)\n",
    "\n",
    "# Calculate the F1-score and print classification report for the test set\n",
    "bagging_f1_25_test = f1_score(y_test, y_pred_25_test)\n",
    "print(\"F1 Score:\", \"{:.4f}\".format(bagging_f1_25_test))\n",
    "\n",
    "print(\"Classification Report for Test Set:\")\n",
    "print(classification_report(y_test, y_pred_25_test))"
   ]
  },
  {
   "cell_type": "code",
   "execution_count": 35,
   "metadata": {},
   "outputs": [
    {
     "name": "stdout",
     "output_type": "stream",
     "text": [
      "F1 Score: 0.4645\n",
      "Classification Report:\n",
      "              precision    recall  f1-score   support\n",
      "\n",
      "           0       0.84      0.95      0.89      4684\n",
      "           1       0.67      0.36      0.46      1316\n",
      "\n",
      "    accuracy                           0.82      6000\n",
      "   macro avg       0.75      0.65      0.68      6000\n",
      "weighted avg       0.80      0.82      0.80      6000\n",
      "\n"
     ]
    }
   ],
   "source": [
    "# 50 Bags without any resampling technique\n",
    "from sklearn.ensemble import RandomForestClassifier, BaggingClassifier\n",
    "from sklearn.metrics import accuracy_score, classification_report\n",
    "\n",
    "# Create a base classifier (Random Forest in this case)\n",
    "base_classifier = RandomForestClassifier(random_state=0)\n",
    "\n",
    "# Create a BaggingClassifier\n",
    "bagging_classifier_50 = BaggingClassifier(base_classifier, n_estimators=50, random_state=0)\n",
    "\n",
    "# Train the BaggingClassifier\n",
    "bagging_classifier_50.fit(X_train, y_train)\n",
    "\n",
    "# Predict using the BaggingClassifier\n",
    "y_pred_50 = bagging_classifier_50.predict(X_valid)\n",
    "\n",
    "# Calculate the f1-score and print classification report\n",
    "bagging_f1_50 = f1_score(y_valid, y_pred_50)\n",
    "print(\"F1 Score:\", \"{:.4f}\".format(bagging_f1_50))\n",
    "\n",
    "print(\"Classification Report:\")\n",
    "print(classification_report(y_valid, y_pred_50))"
   ]
  },
  {
   "cell_type": "code",
   "execution_count": 36,
   "metadata": {},
   "outputs": [
    {
     "name": "stdout",
     "output_type": "stream",
     "text": [
      "F1 Score: 0.4726\n",
      "Classification Report for Test Set:\n",
      "              precision    recall  f1-score   support\n",
      "\n",
      "           0       0.84      0.95      0.89      4687\n",
      "           1       0.66      0.37      0.47      1313\n",
      "\n",
      "    accuracy                           0.82      6000\n",
      "   macro avg       0.75      0.66      0.68      6000\n",
      "weighted avg       0.80      0.82      0.80      6000\n",
      "\n"
     ]
    }
   ],
   "source": [
    "# Predict using the BaggingClassifier on the test set\n",
    "y_pred_50_test = bagging_classifier_50.predict(X_test)\n",
    "\n",
    "# Calculate the F1-score and print classification report for the test set\n",
    "bagging_f1_50_test = f1_score(y_test, y_pred_50_test)\n",
    "print(\"F1 Score:\", \"{:.4f}\".format(bagging_f1_50_test))\n",
    "\n",
    "print(\"Classification Report for Test Set:\")\n",
    "print(classification_report(y_test, y_pred_50_test))"
   ]
  }
 ],
 "metadata": {
  "kernelspec": {
   "display_name": "base",
   "language": "python",
   "name": "python3"
  },
  "language_info": {
   "codemirror_mode": {
    "name": "ipython",
    "version": 3
   },
   "file_extension": ".py",
   "mimetype": "text/x-python",
   "name": "python",
   "nbconvert_exporter": "python",
   "pygments_lexer": "ipython3",
   "version": "3.11.4"
  }
 },
 "nbformat": 4,
 "nbformat_minor": 2
}
