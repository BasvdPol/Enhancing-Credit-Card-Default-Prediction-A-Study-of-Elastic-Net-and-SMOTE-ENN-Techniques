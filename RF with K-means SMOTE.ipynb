{
 "cells": [
  {
   "cell_type": "code",
   "execution_count": null,
   "metadata": {},
   "outputs": [],
   "source": [
    "################################ RF with K-means SMOTE ################################"
   ]
  },
  {
   "cell_type": "code",
   "execution_count": null,
   "metadata": {},
   "outputs": [],
   "source": [
    "#### Uploading the dataset and make some changes ####"
   ]
  },
  {
   "cell_type": "code",
   "execution_count": 1,
   "metadata": {},
   "outputs": [],
   "source": [
    "# Start with importing the Taiwanese bank dataset.\n",
    "import pandas as pd\n",
    "\n",
    "df = pd.read_csv('C:/Users/basvd/OneDrive/Documenten/Tilburg University/Master Data Science & Society/Thesis/Data sets/Taiwan 2005 default credit card data set.csv')\n",
    "\n"
   ]
  },
  {
   "cell_type": "code",
   "execution_count": 2,
   "metadata": {},
   "outputs": [
    {
     "name": "stdout",
     "output_type": "stream",
     "text": [
      "   ID  LIMIT_BAL  SEX  EDUCATION  MARRIAGE  AGE  PAY_0  PAY_2  PAY_3  PAY_4  \\\n",
      "0   1    20000.0    2          2         1   24      2      2     -1     -1   \n",
      "1   2   120000.0    2          2         2   26     -1      2      0      0   \n",
      "2   3    90000.0    2          2         2   34      0      0      0      0   \n",
      "3   4    50000.0    2          2         1   37      0      0      0      0   \n",
      "4   5    50000.0    1          2         1   57     -1      0     -1      0   \n",
      "\n",
      "   ...  BILL_AMT4  BILL_AMT5  BILL_AMT6  PAY_AMT1  PAY_AMT2  PAY_AMT3  \\\n",
      "0  ...        0.0        0.0        0.0       0.0     689.0       0.0   \n",
      "1  ...     3272.0     3455.0     3261.0       0.0    1000.0    1000.0   \n",
      "2  ...    14331.0    14948.0    15549.0    1518.0    1500.0    1000.0   \n",
      "3  ...    28314.0    28959.0    29547.0    2000.0    2019.0    1200.0   \n",
      "4  ...    20940.0    19146.0    19131.0    2000.0   36681.0   10000.0   \n",
      "\n",
      "   PAY_AMT4  PAY_AMT5  PAY_AMT6  default.payment.next.month  \n",
      "0       0.0       0.0       0.0                           1  \n",
      "1    1000.0       0.0    2000.0                           1  \n",
      "2    1000.0    1000.0    5000.0                           0  \n",
      "3    1100.0    1069.0    1000.0                           0  \n",
      "4    9000.0     689.0     679.0                           0  \n",
      "\n",
      "[5 rows x 25 columns]\n"
     ]
    }
   ],
   "source": [
    "# Show how the dataset looks like.\n",
    "print(df.head())"
   ]
  },
  {
   "cell_type": "code",
   "execution_count": 3,
   "metadata": {},
   "outputs": [
    {
     "name": "stdout",
     "output_type": "stream",
     "text": [
      "   LIMIT_BAL  SEX  EDUCATION  MARRIAGE  AGE  PAY_0  PAY_2  PAY_3  PAY_4  \\\n",
      "0    20000.0    2          2         1   24      2      2     -1     -1   \n",
      "1   120000.0    2          2         2   26     -1      2      0      0   \n",
      "2    90000.0    2          2         2   34      0      0      0      0   \n",
      "3    50000.0    2          2         1   37      0      0      0      0   \n",
      "4    50000.0    1          2         1   57     -1      0     -1      0   \n",
      "\n",
      "   PAY_5  ...  BILL_AMT4  BILL_AMT5  BILL_AMT6  PAY_AMT1  PAY_AMT2  PAY_AMT3  \\\n",
      "0     -2  ...        0.0        0.0        0.0       0.0     689.0       0.0   \n",
      "1      0  ...     3272.0     3455.0     3261.0       0.0    1000.0    1000.0   \n",
      "2      0  ...    14331.0    14948.0    15549.0    1518.0    1500.0    1000.0   \n",
      "3      0  ...    28314.0    28959.0    29547.0    2000.0    2019.0    1200.0   \n",
      "4      0  ...    20940.0    19146.0    19131.0    2000.0   36681.0   10000.0   \n",
      "\n",
      "   PAY_AMT4  PAY_AMT5  PAY_AMT6  default.payment.next.month  \n",
      "0       0.0       0.0       0.0                           1  \n",
      "1    1000.0       0.0    2000.0                           1  \n",
      "2    1000.0    1000.0    5000.0                           0  \n",
      "3    1100.0    1069.0    1000.0                           0  \n",
      "4    9000.0     689.0     679.0                           0  \n",
      "\n",
      "[5 rows x 24 columns]\n"
     ]
    }
   ],
   "source": [
    "#Drop the ID column, since it has no value to the models that needs to be made.\n",
    "df = df.drop(df.columns[0], axis=1)\n",
    "print(df.head())\n"
   ]
  },
  {
   "cell_type": "code",
   "execution_count": 4,
   "metadata": {},
   "outputs": [
    {
     "data": {
      "text/plain": [
       "LIMIT_BAL                     0\n",
       "SEX                           0\n",
       "EDUCATION                     0\n",
       "MARRIAGE                      0\n",
       "AGE                           0\n",
       "PAY_0                         0\n",
       "PAY_2                         0\n",
       "PAY_3                         0\n",
       "PAY_4                         0\n",
       "PAY_5                         0\n",
       "PAY_6                         0\n",
       "BILL_AMT1                     0\n",
       "BILL_AMT2                     0\n",
       "BILL_AMT3                     0\n",
       "BILL_AMT4                     0\n",
       "BILL_AMT5                     0\n",
       "BILL_AMT6                     0\n",
       "PAY_AMT1                      0\n",
       "PAY_AMT2                      0\n",
       "PAY_AMT3                      0\n",
       "PAY_AMT4                      0\n",
       "PAY_AMT5                      0\n",
       "PAY_AMT6                      0\n",
       "default.payment.next.month    0\n",
       "dtype: int64"
      ]
     },
     "execution_count": 4,
     "metadata": {},
     "output_type": "execute_result"
    }
   ],
   "source": [
    "# See if there is any row with NA values in there.\n",
    "## Below shows that there is no row with an NA value, meaning that we do not have to drop any row or fill it with, for example, the average.\n",
    "df.isnull().sum()"
   ]
  },
  {
   "cell_type": "code",
   "execution_count": 5,
   "metadata": {},
   "outputs": [
    {
     "name": "stdout",
     "output_type": "stream",
     "text": [
      "       LIMIT_BAL  SEX  EDUCATION  MARRIAGE       AGE  PAY_0  PAY_2  PAY_3  \\\n",
      "0       0.010101    2          2         1  0.051724      2      2     -1   \n",
      "1       0.111111    2          2         2  0.086207     -1      2      0   \n",
      "2       0.080808    2          2         2  0.224138      0      0      0   \n",
      "3       0.040404    2          2         1  0.275862      0      0      0   \n",
      "4       0.040404    1          2         1  0.620690     -1      0     -1   \n",
      "...          ...  ...        ...       ...       ...    ...    ...    ...   \n",
      "29995   0.212121    1          3         1  0.310345      0      0      0   \n",
      "29996   0.141414    1          3         2  0.379310     -1     -1     -1   \n",
      "29997   0.020202    1          2         2  0.275862      4      3      2   \n",
      "29998   0.070707    1          3         1  0.344828      1     -1      0   \n",
      "29999   0.040404    1          2         1  0.431034      0      0      0   \n",
      "\n",
      "       PAY_4  PAY_5  ...  BILL_AMT4  BILL_AMT5  BILL_AMT6  PAY_AMT1  PAY_AMT2  \\\n",
      "0         -1     -2  ...   0.160138   0.080648   0.260979  0.000000  0.000409   \n",
      "1          0      0  ...   0.163220   0.084074   0.263485  0.000000  0.000594   \n",
      "2          0      0  ...   0.173637   0.095470   0.272928  0.001738  0.000891   \n",
      "3          0      0  ...   0.186809   0.109363   0.283685  0.002290  0.001199   \n",
      "4          0      0  ...   0.179863   0.099633   0.275681  0.002290  0.021779   \n",
      "...      ...    ...  ...        ...        ...        ...       ...       ...   \n",
      "29995      0      0  ...   0.243036   0.111622   0.273259  0.009730  0.011875   \n",
      "29996     -1      0  ...   0.168596   0.085794   0.260979  0.002103  0.002094   \n",
      "29997     -1      0  ...   0.179805   0.101057   0.275854  0.000000  0.000000   \n",
      "29998      0      0  ...   0.209850   0.092403   0.298591  0.098334  0.002024   \n",
      "29999      0      0  ...   0.194553   0.112803   0.272746  0.002379  0.001069   \n",
      "\n",
      "       PAY_AMT3  PAY_AMT4  PAY_AMT5  PAY_AMT6  default.payment.next.month  \n",
      "0      0.000000  0.000000  0.000000  0.000000                           1  \n",
      "1      0.001116  0.001610  0.000000  0.003783                           1  \n",
      "2      0.001116  0.001610  0.002345  0.009458                           0  \n",
      "3      0.001339  0.001771  0.002506  0.001892                           0  \n",
      "4      0.011160  0.014493  0.001615  0.001284                           0  \n",
      "...         ...       ...       ...       ...                         ...  \n",
      "29995  0.005583  0.004907  0.011723  0.001892                           0  \n",
      "29996  0.010042  0.000208  0.000000  0.000000                           0  \n",
      "29997  0.024552  0.006763  0.004689  0.005864                           1  \n",
      "29998  0.001315  0.003101  0.124174  0.003412                           1  \n",
      "29999  0.001596  0.001610  0.002345  0.001892                           1  \n",
      "\n",
      "[30000 rows x 24 columns]\n"
     ]
    }
   ],
   "source": [
    "# Normalize (just like in the last paper) the non-categorical independent variables.\n",
    "from sklearn.preprocessing import MinMaxScaler\n",
    "\n",
    "# Specify the columns you want to normalize\n",
    "columns_to_normalize = ['LIMIT_BAL', 'BILL_AMT1', 'BILL_AMT2', 'BILL_AMT3', \n",
    "                        'BILL_AMT4', 'BILL_AMT5', 'BILL_AMT6', 'PAY_AMT1', \n",
    "                        'PAY_AMT2', 'PAY_AMT3', 'PAY_AMT4', 'PAY_AMT5', 'PAY_AMT6', 'AGE']\n",
    "\n",
    "# Create a MinMaxScaler object\n",
    "scaler = MinMaxScaler()\n",
    "\n",
    "# Fit the scaler to the specified columns and transform them\n",
    "df[columns_to_normalize] = scaler.fit_transform(df[columns_to_normalize])\n",
    "\n",
    "# Display the normalized DataFrame\n",
    "print(df)"
   ]
  },
  {
   "cell_type": "code",
   "execution_count": 6,
   "metadata": {},
   "outputs": [
    {
     "name": "stdout",
     "output_type": "stream",
     "text": [
      "Minimum values:\n",
      "LIMIT_BAL                     0.0\n",
      "SEX                           1.0\n",
      "EDUCATION                     0.0\n",
      "MARRIAGE                      0.0\n",
      "AGE                           0.0\n",
      "PAY_0                        -2.0\n",
      "PAY_2                        -2.0\n",
      "PAY_3                        -2.0\n",
      "PAY_4                        -2.0\n",
      "PAY_5                        -2.0\n",
      "PAY_6                        -2.0\n",
      "BILL_AMT1                     0.0\n",
      "BILL_AMT2                     0.0\n",
      "BILL_AMT3                     0.0\n",
      "BILL_AMT4                     0.0\n",
      "BILL_AMT5                     0.0\n",
      "BILL_AMT6                     0.0\n",
      "PAY_AMT1                      0.0\n",
      "PAY_AMT2                      0.0\n",
      "PAY_AMT3                      0.0\n",
      "PAY_AMT4                      0.0\n",
      "PAY_AMT5                      0.0\n",
      "PAY_AMT6                      0.0\n",
      "default.payment.next.month    0.0\n",
      "dtype: float64\n",
      "\n",
      "Maximum values:\n",
      "LIMIT_BAL                     1.0\n",
      "SEX                           2.0\n",
      "EDUCATION                     6.0\n",
      "MARRIAGE                      3.0\n",
      "AGE                           1.0\n",
      "PAY_0                         8.0\n",
      "PAY_2                         8.0\n",
      "PAY_3                         8.0\n",
      "PAY_4                         8.0\n",
      "PAY_5                         8.0\n",
      "PAY_6                         8.0\n",
      "BILL_AMT1                     1.0\n",
      "BILL_AMT2                     1.0\n",
      "BILL_AMT3                     1.0\n",
      "BILL_AMT4                     1.0\n",
      "BILL_AMT5                     1.0\n",
      "BILL_AMT6                     1.0\n",
      "PAY_AMT1                      1.0\n",
      "PAY_AMT2                      1.0\n",
      "PAY_AMT3                      1.0\n",
      "PAY_AMT4                      1.0\n",
      "PAY_AMT5                      1.0\n",
      "PAY_AMT6                      1.0\n",
      "default.payment.next.month    1.0\n",
      "dtype: float64\n"
     ]
    }
   ],
   "source": [
    "# Print the minimum and maximum values of the columns to check if they are indeed normalised.\n",
    "print(\"Minimum values:\")\n",
    "print(df.min())\n",
    "\n",
    "print(\"\\nMaximum values:\")\n",
    "print(df.max())\n"
   ]
  },
  {
   "cell_type": "code",
   "execution_count": 7,
   "metadata": {},
   "outputs": [
    {
     "name": "stdout",
     "output_type": "stream",
     "text": [
      "Original dataset shape Counter({0: 23364, 1: 6636})\n"
     ]
    }
   ],
   "source": [
    "# First we will see how the classes are divided.\n",
    "from collections import Counter\n",
    "input_cols = df.drop(columns='default.payment.next.month')\n",
    "target_col = df['default.payment.next.month']\n",
    "print('Original dataset shape %s' % Counter(target_col))"
   ]
  },
  {
   "cell_type": "code",
   "execution_count": 8,
   "metadata": {},
   "outputs": [
    {
     "name": "stderr",
     "output_type": "stream",
     "text": [
      "c:\\Users\\basvd\\anaconda3\\Lib\\site-packages\\joblib\\externals\\loky\\backend\\context.py:110: UserWarning: Could not find the number of physical cores for the following reason:\n",
      "found 0 physical cores < 1\n",
      "Returning the number of logical cores instead. You can silence this warning by setting LOKY_MAX_CPU_COUNT to the number of cores you want to use.\n",
      "  warnings.warn(\n",
      "  File \"c:\\Users\\basvd\\anaconda3\\Lib\\site-packages\\joblib\\externals\\loky\\backend\\context.py\", line 217, in _count_physical_cores\n",
      "    raise ValueError(\n"
     ]
    },
    {
     "name": "stdout",
     "output_type": "stream",
     "text": [
      "Resampled dataset shape Counter({1: 23365, 0: 23364})\n"
     ]
    }
   ],
   "source": [
    "# Now we will implement K-means SMOTE to get the classes balanced again.\n",
    "from sklearn.cluster import KMeans\n",
    "from imblearn.over_sampling import KMeansSMOTE\n",
    "from collections import Counter\n",
    "\n",
    "# Fit KMeans to obtain cluster centers\n",
    "kmeans = KMeans(n_clusters=10, random_state=42)\n",
    "kmeans.fit(input_cols)\n",
    "\n",
    "# Use KMeans centroids as initial cluster centers for KMeansSMOTE\n",
    "kmeans_smote = KMeansSMOTE(sampling_strategy='auto', random_state=42, kmeans_estimator=kmeans)\n",
    "input_cols_res_K, target_col_res_K = kmeans_smote.fit_resample(input_cols, target_col)\n",
    "print('Resampled dataset shape %s' % Counter(target_col_res_K))"
   ]
  },
  {
   "cell_type": "code",
   "execution_count": null,
   "metadata": {},
   "outputs": [],
   "source": [
    "#### Nested K-fold cross-validation ####"
   ]
  },
  {
   "cell_type": "code",
   "execution_count": 9,
   "metadata": {},
   "outputs": [
    {
     "name": "stdout",
     "output_type": "stream",
     "text": [
      "              precision    recall  f1-score   support\n",
      "\n",
      "           0     0.8493    0.9271    0.8865     23364\n",
      "           1     0.9197    0.8355    0.8756     23365\n",
      "\n",
      "    accuracy                         0.8813     46729\n",
      "   macro avg     0.8845    0.8813    0.8810     46729\n",
      "weighted avg     0.8845    0.8813    0.8810     46729\n",
      "\n"
     ]
    }
   ],
   "source": [
    "# K-means SMOTE plus automatic nested cross-validation for random forest on a classification dataset\n",
    "from numpy import mean\n",
    "from numpy import std\n",
    "from sklearn.datasets import make_classification\n",
    "from sklearn.model_selection import cross_val_score\n",
    "from sklearn.model_selection import KFold\n",
    "from sklearn.model_selection import GridSearchCV\n",
    "from sklearn.ensemble import RandomForestClassifier\n",
    "from sklearn.metrics import classification_report\n",
    "from sklearn.model_selection import cross_val_predict\n",
    "\n",
    "# configure the cross-validation procedure\n",
    "cv_inner_K = KFold(n_splits=3, shuffle=True, random_state=42)\n",
    "# define the model\n",
    "model = RandomForestClassifier(random_state=42)\n",
    "# define search space\n",
    "space = dict()\n",
    "space['n_estimators'] = [40, 50, 60]\n",
    "space['max_features'] = [None, 5, 10]\n",
    "# define search\n",
    "search_K = GridSearchCV(model, space, scoring='f1', n_jobs=1, cv=cv_inner_K, refit=True)\n",
    "# configure the cross-validation procedure\n",
    "cv_outer_K = KFold(n_splits=10, shuffle=True, random_state=1)\n",
    "\n",
    "# Execute the nested cross-validation\n",
    "predicted_labels_K = cross_val_predict(search_K, input_cols_res_K, target_col_res_K, cv=cv_outer_K, n_jobs=-1)\n",
    "\n",
    "# Generate the classification report\n",
    "report_K = classification_report(target_col_res_K, predicted_labels_K, digits= 4)\n",
    "print(report_K)"
   ]
  },
  {
   "cell_type": "code",
   "execution_count": 57,
   "metadata": {},
   "outputs": [
    {
     "name": "stdout",
     "output_type": "stream",
     "text": [
      "Recall: 0.8355\n",
      "Accuracy: 0.8813\n",
      "Precision: 0.9197\n",
      "F1 Score: 0.8756\n"
     ]
    }
   ],
   "source": [
    "from sklearn.metrics import precision_score, recall_score, accuracy_score, f1_score\n",
    "\n",
    "# Calculate recall, accuracy, and precision on the test set\n",
    "recall = recall_score(target_col_res_K, predicted_labels_K)\n",
    "print(\"Recall:\", \"{:.4f}\".format(recall))\n",
    "\n",
    "accuracy = accuracy_score(target_col_res_K, predicted_labels_K)\n",
    "print(\"Accuracy:\", \"{:.4f}\".format(accuracy))\n",
    "\n",
    "precision = precision_score(target_col_res_K, predicted_labels_K)\n",
    "print(\"Precision:\", \"{:.4f}\".format(precision))\n",
    "\n",
    "f1 = f1_score(target_col_res_K, predicted_labels_K)\n",
    "print(\"F1 Score:\", \"{:.4f}\".format(f1))"
   ]
  },
  {
   "cell_type": "code",
   "execution_count": 58,
   "metadata": {},
   "outputs": [
    {
     "name": "stdout",
     "output_type": "stream",
     "text": [
      "Confusion Matrix:\n",
      "[[21660  1704]\n",
      " [ 3844 19521]]\n"
     ]
    }
   ],
   "source": [
    "# Calculate confusion matrix\n",
    "from sklearn.metrics import confusion_matrix\n",
    "conf_matrix = confusion_matrix(target_col_res_K, predicted_labels_K)\n",
    "print(\"Confusion Matrix:\")\n",
    "print(conf_matrix)"
   ]
  },
  {
   "cell_type": "code",
   "execution_count": 59,
   "metadata": {},
   "outputs": [
    {
     "data": {
      "image/png": "[encoded data removed]",
      "text/plain": [
       "<Figure size 800x600 with 2 Axes>"
      ]
     },
     "metadata": {},
     "output_type": "display_data"
    }
   ],
   "source": [
    "import matplotlib.pyplot as plt\n",
    "import seaborn as sns\n",
    "from sklearn.metrics import confusion_matrix\n",
    "\n",
    "# Define plot_confusion_matrix function\n",
    "def plot_confusion_matrix(cm, set_name):\n",
    "    plt.figure(figsize=(8, 6))\n",
    "    sns.heatmap(cm, annot=True, fmt=\"d\", cmap=\"Blues\")\n",
    "    plt.title(f\"Confusion Matrix of the best Random Forest model with K-means SMOTE\")\n",
    "    plt.xlabel(\"Predicted Label\")\n",
    "    plt.ylabel(\"True Label\")\n",
    "    plt.show()\n",
    "\n",
    "# Calculate confusion matrix\n",
    "conf_matrix = confusion_matrix(target_col_res_K, predicted_labels_K)\n",
    "\n",
    "# Plot confusion matrix\n",
    "plot_confusion_matrix(conf_matrix, \"Test\")"
   ]
  },
  {
   "cell_type": "code",
   "execution_count": 60,
   "metadata": {},
   "outputs": [
    {
     "name": "stdout",
     "output_type": "stream",
     "text": [
      "Best Hyperparameters: {'max_features': 10, 'n_estimators': 50}\n"
     ]
    },
    {
     "data": {
      "image/png": "[encoded data removed]",
      "text/plain": [
       "<Figure size 640x480 with 1 Axes>"
      ]
     },
     "metadata": {},
     "output_type": "display_data"
    }
   ],
   "source": [
    "# Best hyperparameters and feature importance\n",
    "import matplotlib.pyplot as plt\n",
    "import pandas as pd\n",
    "search_K.fit(input_cols_res_K, target_col_res_K)\n",
    "\n",
    "# Access the best hyperparameters\n",
    "best_params = search_K.best_params_\n",
    "print(\"Best Hyperparameters:\", best_params)\n",
    "\n",
    "importances = pd.Series(data=search_K.best_estimator_.feature_importances_, index=input_cols_res_K.columns)\n",
    "\n",
    "# Sort importances\n",
    "importances_sorted = importances.sort_values()\n",
    "\n",
    "# Draw a horizontal barplot of importances_sorted\n",
    "importances_sorted.plot(kind='barh', color='lightgreen')\n",
    "plt.title('Feature Importance of the best Random Forest model with K-means SMOTE')\n",
    "plt.xlabel('Importance')\n",
    "plt.ylabel('Feature')\n",
    "plt.show()"
   ]
  },
  {
   "cell_type": "code",
   "execution_count": null,
   "metadata": {},
   "outputs": [],
   "source": [
    "#### Normal Random Forest ####"
   ]
  },
  {
   "cell_type": "code",
   "execution_count": 10,
   "metadata": {},
   "outputs": [
    {
     "name": "stdout",
     "output_type": "stream",
     "text": [
      "(28037, 23)\n",
      "(9346, 23)\n",
      "(9346, 23)\n",
      "(9346,)\n",
      "(28037,)\n",
      "(9346,)\n"
     ]
    }
   ],
   "source": [
    "# Splitting the dataset into training and test sets\n",
    "from sklearn.model_selection import train_test_split\n",
    "\n",
    "X_train_K, X_test_K, y_train_K, y_test_K = train_test_split(input_cols_res_K, target_col_res_K, random_state=42, test_size=0.2)\n",
    "\n",
    "# Further splitting the training set into training and validation sets\n",
    "X_train_K, X_valid_K, y_train_K, y_valid_K = train_test_split(X_train_K, y_train_K, random_state=42, test_size=0.25)\n",
    "\n",
    "print(X_train_K.shape)\n",
    "print(X_test_K.shape)\n",
    "print(X_valid_K.shape)\n",
    "print(y_valid_K.shape)\n",
    "print(y_train_K.shape)\n",
    "print(y_test_K.shape)\n"
   ]
  },
  {
   "cell_type": "code",
   "execution_count": 32,
   "metadata": {},
   "outputs": [
    {
     "name": "stdout",
     "output_type": "stream",
     "text": [
      "F1 Score: 0.8736\n",
      "              precision    recall  f1-score   support\n",
      "\n",
      "           0       0.85      0.92      0.89      4709\n",
      "           1       0.91      0.84      0.87      4637\n",
      "\n",
      "    accuracy                           0.88      9346\n",
      "   macro avg       0.88      0.88      0.88      9346\n",
      "weighted avg       0.88      0.88      0.88      9346\n",
      "\n"
     ]
    }
   ],
   "source": [
    "# First RF model\n",
    "from sklearn.ensemble import RandomForestClassifier\n",
    "from sklearn.metrics import accuracy_score, classification_report\n",
    "rf_K = RandomForestClassifier(random_state=0).fit(X_train_K, y_train_K)\n",
    "y_pred_K = rf_K.predict(X_valid_K)\n",
    "\n",
    "# Calculate the F1 score and classification report\n",
    "rf_f1_K = f1_score(y_valid_K, y_pred_K)\n",
    "print(\"F1 Score:\", \"{:.4f}\".format(rf_f1_K))\n",
    "print(classification_report(y_valid_K, y_pred_K))"
   ]
  },
  {
   "cell_type": "code",
   "execution_count": 12,
   "metadata": {},
   "outputs": [
    {
     "name": "stdout",
     "output_type": "stream",
     "text": [
      "Number of trees (n_estimators): 100\n",
      "Maximum number of features (max_features): sqrt\n"
     ]
    }
   ],
   "source": [
    "# Get the number of trees (100) --> Shows the standard amount of trees, since I did not specify it.\n",
    "n_estimators_used = rf_K.n_estimators\n",
    "\n",
    "# Get the maximum number of features (sqrt) --> The sqrt of the amount of features, which will be 4 (rounded down).\n",
    "max_features_used = rf_K.max_features\n",
    "\n",
    "print(\"Number of trees (n_estimators):\", n_estimators_used)\n",
    "print(\"Maximum number of features (max_features):\", max_features_used)"
   ]
  },
  {
   "cell_type": "code",
   "execution_count": 18,
   "metadata": {},
   "outputs": [
    {
     "data": {
      "text/plain": [
       "Text(0.5, 1.0, 'Features Importances')"
      ]
     },
     "execution_count": 18,
     "metadata": {},
     "output_type": "execute_result"
    },
    {
     "data": {
      "image/png": "[encoded data removed]",
      "text/plain": [
       "<Figure size 640x480 with 1 Axes>"
      ]
     },
     "metadata": {},
     "output_type": "display_data"
    }
   ],
   "source": [
    "#Feature importance\n",
    "import matplotlib.pyplot as plt\n",
    "importances = pd.Series(data=rf_K.feature_importances_, index=X_train_K.columns)\n",
    "\n",
    "# Sort importances\n",
    "importances_sorted = importances.sort_values()\n",
    "\n",
    "# Draw a horizontal barplot of importances_sorted\n",
    "importances_sorted.plot(kind='barh', color='lightgreen')\n",
    "plt.title('Features Importances')"
   ]
  },
  {
   "cell_type": "code",
   "execution_count": 21,
   "metadata": {},
   "outputs": [
    {
     "data": {
      "image/png": "[encoded data removed]",
      "text/plain": [
       "<Figure size 640x480 with 1 Axes>"
      ]
     },
     "metadata": {},
     "output_type": "display_data"
    }
   ],
   "source": [
    "import numpy as np\n",
    "import matplotlib.pyplot as plt\n",
    "from sklearn.ensemble import RandomForestClassifier\n",
    "from sklearn.metrics import f1_score\n",
    "\n",
    "# Define a range of values for the number of trees\n",
    "num_trees_range_K = [10, 20, 30, 40, 50, 60, 70, 80, 90, 100]\n",
    "\n",
    "# Initialize lists to store F1-scores for training and validation sets\n",
    "train_f1_scores_K = []\n",
    "valid_f1_scores_K = []\n",
    "\n",
    "# Train RandomForestClassifier models with different numbers of trees\n",
    "for num_trees in num_trees_range_K:\n",
    "    # Create and train the model\n",
    "    rf_K = RandomForestClassifier(n_estimators=num_trees, random_state=0)\n",
    "    rf_K.fit(X_train_K, y_train_K)\n",
    "    \n",
    "    # Predict on training and validation sets\n",
    "    y_train_pred_K = rf_K.predict(X_train_K)\n",
    "    y_valid_pred_K = rf_K.predict(X_valid_K)\n",
    "    \n",
    "    # Calculate F1-scores for training and validation sets\n",
    "    train_f1_K = f1_score(y_train_K, y_train_pred_K)\n",
    "    valid_f1_K = f1_score(y_valid_K, y_valid_pred_K)\n",
    "    \n",
    "    # Append F1-scores to the lists\n",
    "    train_f1_scores_K.append(train_f1_K)\n",
    "    valid_f1_scores_K.append(valid_f1_K)\n",
    "\n",
    "# Plot the F1-scores for training and validation sets against the number of trees\n",
    "plt.plot(num_trees_range_K, train_f1_scores_K, label='Training F1-score', marker='o')\n",
    "plt.plot(num_trees_range_K, valid_f1_scores_K, label='Validation F1-score', marker='o')\n",
    "plt.xlabel('Number of Trees')\n",
    "plt.ylabel('F1-score')\n",
    "plt.title('F1-score vs. Number of Trees in Random Forest with K-means SMOTE')\n",
    "plt.legend()\n",
    "plt.grid(True)\n",
    "plt.show()"
   ]
  },
  {
   "cell_type": "code",
   "execution_count": 33,
   "metadata": {},
   "outputs": [
    {
     "name": "stdout",
     "output_type": "stream",
     "text": [
      "F1 Score on Test Set: 0.8721\n",
      "Classification Report on Test Set:\n",
      "              precision    recall  f1-score   support\n",
      "\n",
      "           0       0.84      0.93      0.88      4644\n",
      "           1       0.92      0.83      0.87      4702\n",
      "\n",
      "    accuracy                           0.88      9346\n",
      "   macro avg       0.88      0.88      0.88      9346\n",
      "weighted avg       0.88      0.88      0.88      9346\n",
      "\n"
     ]
    }
   ],
   "source": [
    "# Predict labels on the test set\n",
    "y_pred_test_K = rf_K.predict(X_test_K)\n",
    "\n",
    "# Calculate the F1 score on the test set\n",
    "rf_f1_test_K = f1_score(y_test_K, y_pred_test_K)\n",
    "print(\"F1 Score on Test Set:\", \"{:.4f}\".format(rf_f1_test_K))\n",
    "\n",
    "print(\"Classification Report on Test Set:\")\n",
    "print(classification_report(y_test_K, y_pred_test_K))"
   ]
  },
  {
   "cell_type": "code",
   "execution_count": null,
   "metadata": {},
   "outputs": [],
   "source": [
    "#### Bagging ####"
   ]
  },
  {
   "cell_type": "code",
   "execution_count": 34,
   "metadata": {},
   "outputs": [
    {
     "name": "stdout",
     "output_type": "stream",
     "text": [
      "F1 Score: 0.8758\n",
      "Classification Report:\n",
      "              precision    recall  f1-score   support\n",
      "\n",
      "           0       0.85      0.93      0.89      4709\n",
      "           1       0.92      0.84      0.88      4637\n",
      "\n",
      "    accuracy                           0.88      9346\n",
      "   macro avg       0.89      0.88      0.88      9346\n",
      "weighted avg       0.88      0.88      0.88      9346\n",
      "\n"
     ]
    }
   ],
   "source": [
    "# Normal RF with bagging (10 bags) for K-means SMOTE\n",
    "from sklearn.ensemble import RandomForestClassifier, BaggingClassifier\n",
    "from sklearn.metrics import accuracy_score, classification_report\n",
    "\n",
    "# Create the RandomForestClassifier with 50 trees\n",
    "base_classifier = RandomForestClassifier(n_estimators=50, max_features=10, random_state=0)\n",
    "\n",
    "# Create a BaggingClassifier\n",
    "bagging_classifier_10 = BaggingClassifier(base_classifier, n_estimators=10, random_state=0)\n",
    "\n",
    "# Train the BaggingClassifier\n",
    "bagging_classifier_10.fit(X_train_K, y_train_K)\n",
    "\n",
    "# Predict using the BaggingClassifier\n",
    "y_pred_K_10 = bagging_classifier_10.predict(X_valid_K)\n",
    "\n",
    "# Calculate the f1-score and print classification report\n",
    "bagging_f1_K_10 = f1_score(y_valid_K, y_pred_K_10)\n",
    "print(\"F1 Score:\", \"{:.4f}\".format(bagging_f1_K_10))\n",
    "\n",
    "print(\"Classification Report:\")\n",
    "print(classification_report(y_valid_K, y_pred_K_10))"
   ]
  },
  {
   "cell_type": "code",
   "execution_count": 36,
   "metadata": {},
   "outputs": [
    {
     "name": "stdout",
     "output_type": "stream",
     "text": [
      "F1 Score: 0.8733\n",
      "Classification Report for Test Set:\n",
      "              precision    recall  f1-score   support\n",
      "\n",
      "           0       0.84      0.93      0.88      4644\n",
      "           1       0.92      0.83      0.87      4702\n",
      "\n",
      "    accuracy                           0.88      9346\n",
      "   macro avg       0.88      0.88      0.88      9346\n",
      "weighted avg       0.88      0.88      0.88      9346\n",
      "\n"
     ]
    }
   ],
   "source": [
    "# Predict using the BaggingClassifier on the test set\n",
    "y_pred_K_10_test = bagging_classifier_10.predict(X_test_K)\n",
    "\n",
    "# Calculate the F1-score and print classification report for the test set\n",
    "bagging_f1_K_10_test = f1_score(y_test_K, y_pred_K_10_test)\n",
    "print(\"F1 Score:\", \"{:.4f}\".format(bagging_f1_K_10_test))\n",
    "\n",
    "print(\"Classification Report for Test Set:\")\n",
    "print(classification_report(y_test_K, y_pred_K_10_test))"
   ]
  },
  {
   "cell_type": "code",
   "execution_count": 37,
   "metadata": {},
   "outputs": [
    {
     "name": "stdout",
     "output_type": "stream",
     "text": [
      "F1 Score: 0.8765\n",
      "Classification Report:\n",
      "              precision    recall  f1-score   support\n",
      "\n",
      "           0       0.85      0.92      0.89      4709\n",
      "           1       0.92      0.84      0.88      4637\n",
      "\n",
      "    accuracy                           0.88      9346\n",
      "   macro avg       0.89      0.88      0.88      9346\n",
      "weighted avg       0.89      0.88      0.88      9346\n",
      "\n"
     ]
    }
   ],
   "source": [
    "# Normal RF with bagging (25 bags) for K-means SMOTE\n",
    "from sklearn.ensemble import RandomForestClassifier, BaggingClassifier\n",
    "from sklearn.metrics import accuracy_score, classification_report\n",
    "\n",
    "# Create the RandomForestClassifier with 50 trees\n",
    "base_classifier = RandomForestClassifier(n_estimators=50, max_features=10, random_state=0)\n",
    "\n",
    "# Create a BaggingClassifier\n",
    "bagging_classifier_25 = BaggingClassifier(base_classifier, n_estimators=25, random_state=0)\n",
    "\n",
    "# Train the BaggingClassifier\n",
    "bagging_classifier_25.fit(X_train_K, y_train_K)\n",
    "\n",
    "# Predict using the BaggingClassifier\n",
    "y_pred_K_25 = bagging_classifier_25.predict(X_valid_K)\n",
    "\n",
    "# Calculate the f1-score and print classification report\n",
    "bagging_f1_K_25 = f1_score(y_valid_K, y_pred_K_25)\n",
    "print(\"F1 Score:\", \"{:.4f}\".format(bagging_f1_K_25))\n",
    "\n",
    "print(\"Classification Report:\")\n",
    "print(classification_report(y_valid_K, y_pred_K_25))"
   ]
  },
  {
   "cell_type": "code",
   "execution_count": 39,
   "metadata": {},
   "outputs": [
    {
     "name": "stdout",
     "output_type": "stream",
     "text": [
      "F1 Score: 0.8736\n",
      "Classification Report for Test Set:\n",
      "              precision    recall  f1-score   support\n",
      "\n",
      "           0       0.84      0.93      0.88      4644\n",
      "           1       0.92      0.83      0.87      4702\n",
      "\n",
      "    accuracy                           0.88      9346\n",
      "   macro avg       0.88      0.88      0.88      9346\n",
      "weighted avg       0.88      0.88      0.88      9346\n",
      "\n"
     ]
    }
   ],
   "source": [
    "# Predict using the BaggingClassifier on the test set\n",
    "y_pred_K_25_test = bagging_classifier_25.predict(X_test_K)\n",
    "\n",
    "# Calculate the F1-score and print classification report for the test set\n",
    "bagging_f1_K_25_test = f1_score(y_test_K, y_pred_K_25_test)\n",
    "print(\"F1 Score:\", \"{:.4f}\".format(bagging_f1_K_25_test))\n",
    "\n",
    "print(\"Classification Report for Test Set:\")\n",
    "print(classification_report(y_test_K, y_pred_K_25_test))"
   ]
  },
  {
   "cell_type": "code",
   "execution_count": 41,
   "metadata": {},
   "outputs": [
    {
     "name": "stdout",
     "output_type": "stream",
     "text": [
      "F1 Score: 0.8762\n",
      "Classification Report:\n",
      "              precision    recall  f1-score   support\n",
      "\n",
      "           0       0.85      0.92      0.89      4709\n",
      "           1       0.92      0.84      0.88      4637\n",
      "\n",
      "    accuracy                           0.88      9346\n",
      "   macro avg       0.89      0.88      0.88      9346\n",
      "weighted avg       0.88      0.88      0.88      9346\n",
      "\n"
     ]
    }
   ],
   "source": [
    "# Normal RF with bagging (50) bags) for K-means SMOTE\n",
    "from sklearn.ensemble import RandomForestClassifier, BaggingClassifier\n",
    "from sklearn.metrics import accuracy_score, classification_report\n",
    "\n",
    "# Create the RandomForestClassifier with 50 trees\n",
    "base_classifier = RandomForestClassifier(n_estimators=50, max_features=10, random_state=0)\n",
    "\n",
    "# Create a BaggingClassifier\n",
    "bagging_classifier_50 = BaggingClassifier(base_classifier, n_estimators=50, random_state=0)\n",
    "\n",
    "# Train the BaggingClassifier\n",
    "bagging_classifier_50.fit(X_train_K, y_train_K)\n",
    "\n",
    "# Predict using the BaggingClassifier\n",
    "y_pred_K_50 = bagging_classifier_50.predict(X_valid_K)\n",
    "\n",
    "# Calculate the f1-score and print classification report\n",
    "bagging_f1_K_50 = f1_score(y_valid_K, y_pred_K_50)\n",
    "print(\"F1 Score:\", \"{:.4f}\".format(bagging_f1_K_50))\n",
    "\n",
    "print(\"Classification Report:\")\n",
    "print(classification_report(y_valid_K, y_pred_K_50))"
   ]
  },
  {
   "cell_type": "code",
   "execution_count": 43,
   "metadata": {},
   "outputs": [
    {
     "name": "stdout",
     "output_type": "stream",
     "text": [
      "F1 Score: 0.8735\n",
      "Classification Report for Test Set:\n",
      "              precision    recall  f1-score   support\n",
      "\n",
      "           0       0.84      0.93      0.88      4644\n",
      "           1       0.92      0.83      0.87      4702\n",
      "\n",
      "    accuracy                           0.88      9346\n",
      "   macro avg       0.88      0.88      0.88      9346\n",
      "weighted avg       0.88      0.88      0.88      9346\n",
      "\n"
     ]
    }
   ],
   "source": [
    "# Predict using the BaggingClassifier on the test set\n",
    "y_pred_K_50_test = bagging_classifier_50.predict(X_test_K)\n",
    "\n",
    "# Calculate the F1-score and print classification report for the test set\n",
    "bagging_f1_K_50_test = f1_score(y_test_K, y_pred_K_50_test)\n",
    "print(\"F1 Score:\", \"{:.4f}\".format(bagging_f1_K_50_test))\n",
    "\n",
    "print(\"Classification Report for Test Set:\")\n",
    "print(classification_report(y_test_K, y_pred_K_50_test))"
   ]
  },
  {
   "cell_type": "code",
   "execution_count": 44,
   "metadata": {},
   "outputs": [
    {
     "name": "stdout",
     "output_type": "stream",
     "text": [
      "F1 Score: 0.8752\n",
      "Classification Report:\n",
      "              precision    recall  f1-score   support\n",
      "\n",
      "           0       0.85      0.92      0.89      4709\n",
      "           1       0.92      0.84      0.88      4637\n",
      "\n",
      "    accuracy                           0.88      9346\n",
      "   macro avg       0.88      0.88      0.88      9346\n",
      "weighted avg       0.88      0.88      0.88      9346\n",
      "\n"
     ]
    }
   ],
   "source": [
    "# Normal RF with bagging (100 bags) for K-means SMOTE\n",
    "from sklearn.ensemble import RandomForestClassifier, BaggingClassifier\n",
    "from sklearn.metrics import accuracy_score, classification_report\n",
    "\n",
    "# Create the RandomForestClassifier with 50 trees\n",
    "base_classifier = RandomForestClassifier(n_estimators=50, max_features=10, random_state=0)\n",
    "\n",
    "# Create a BaggingClassifier\n",
    "bagging_classifier_100 = BaggingClassifier(base_classifier, n_estimators=100, random_state=0)\n",
    "\n",
    "# Train the BaggingClassifier\n",
    "bagging_classifier_100.fit(X_train_K, y_train_K)\n",
    "\n",
    "# Predict using the BaggingClassifier\n",
    "y_pred_K_100 = bagging_classifier_100.predict(X_valid_K)\n",
    "\n",
    "# Calculate the f1-score and print classification report\n",
    "bagging_f1_K_100 = f1_score(y_valid_K, y_pred_K_100)\n",
    "print(\"F1 Score:\", \"{:.4f}\".format(bagging_f1_K_100))\n",
    "\n",
    "print(\"Classification Report:\")\n",
    "print(classification_report(y_valid_K, y_pred_K_100))"
   ]
  },
  {
   "cell_type": "code",
   "execution_count": 45,
   "metadata": {},
   "outputs": [
    {
     "name": "stdout",
     "output_type": "stream",
     "text": [
      "F1 Score: 0.8739\n",
      "Classification Report for Test Set:\n",
      "              precision    recall  f1-score   support\n",
      "\n",
      "           0       0.84      0.93      0.88      4644\n",
      "           1       0.92      0.83      0.87      4702\n",
      "\n",
      "    accuracy                           0.88      9346\n",
      "   macro avg       0.88      0.88      0.88      9346\n",
      "weighted avg       0.88      0.88      0.88      9346\n",
      "\n"
     ]
    }
   ],
   "source": [
    "# Predict using the BaggingClassifier on the test set\n",
    "y_pred_K_100_test = bagging_classifier_100.predict(X_test_K)\n",
    "\n",
    "# Calculate the F1-score and print classification report for the test set\n",
    "bagging_f1_K_100_test = f1_score(y_test_K, y_pred_K_100_test)\n",
    "print(\"F1 Score:\", \"{:.4f}\".format(bagging_f1_K_100_test))\n",
    "\n",
    "print(\"Classification Report for Test Set:\")\n",
    "print(classification_report(y_test_K, y_pred_K_100_test))"
   ]
  },
  {
   "cell_type": "code",
   "execution_count": 9,
   "metadata": {},
   "outputs": [
    {
     "name": "stdout",
     "output_type": "stream",
     "text": [
      "Training Reports:\n",
      "               precision    recall  f1-score   support\n",
      "\n",
      "           0   0.850666  0.923909  0.885776     21080\n",
      "           1   0.916288  0.837004  0.874854     20976\n",
      "\n",
      "    accuracy                       0.880564     42056\n",
      "   macro avg   0.883477  0.880457  0.880315     42056\n",
      "weighted avg   0.883396  0.880564  0.880328     42056\n",
      "\n",
      "              precision    recall  f1-score   support\n",
      "\n",
      "           0   0.851495  0.925262  0.886847     21020\n",
      "           1   0.918241  0.838753  0.876699     21036\n",
      "\n",
      "    accuracy                       0.881991     42056\n",
      "   macro avg   0.884868  0.882007  0.881773     42056\n",
      "weighted avg   0.884881  0.881991  0.881771     42056\n",
      "\n",
      "              precision    recall  f1-score   support\n",
      "\n",
      "           0   0.849808  0.925414  0.886001     20996\n",
      "           1   0.918404  0.836942  0.875783     21060\n",
      "\n",
      "    accuracy                       0.881111     42056\n",
      "   macro avg   0.884106  0.881178  0.880892     42056\n",
      "weighted avg   0.884158  0.881111  0.880884     42056\n",
      "\n",
      "              precision    recall  f1-score   support\n",
      "\n",
      "           0   0.849738  0.926206  0.886326     20991\n",
      "           1   0.919222  0.836791  0.876072     21065\n",
      "\n",
      "    accuracy                       0.881420     42056\n",
      "   macro avg   0.884480  0.881499  0.881199     42056\n",
      "weighted avg   0.884541  0.881420  0.881190     42056\n",
      "\n",
      "              precision    recall  f1-score   support\n",
      "\n",
      "           0   0.850437  0.925074  0.886187     21034\n",
      "           1   0.917814  0.837218  0.875665     21022\n",
      "\n",
      "    accuracy                       0.881158     42056\n",
      "   macro avg   0.884125  0.881146  0.880926     42056\n",
      "weighted avg   0.884116  0.881158  0.880928     42056\n",
      "\n",
      "              precision    recall  f1-score   support\n",
      "\n",
      "           0   0.850935  0.924431  0.886162     21014\n",
      "           1   0.917408  0.838276  0.876059     21042\n",
      "\n",
      "    accuracy                       0.881325     42056\n",
      "   macro avg   0.884172  0.881354  0.881110     42056\n",
      "weighted avg   0.884194  0.881325  0.881107     42056\n",
      "\n",
      "              precision    recall  f1-score   support\n",
      "\n",
      "           0   0.849675  0.926856  0.886589     21027\n",
      "           1   0.919556  0.836036  0.875810     21029\n",
      "\n",
      "    accuracy                       0.881444     42056\n",
      "   macro avg   0.884616  0.881446  0.881199     42056\n",
      "weighted avg   0.884617  0.881444  0.881199     42056\n",
      "\n",
      "              precision    recall  f1-score   support\n",
      "\n",
      "           0   0.851456  0.926563  0.887423     21052\n",
      "           1   0.919256  0.837983  0.876740     21004\n",
      "\n",
      "    accuracy                       0.882324     42056\n",
      "   macro avg   0.885356  0.882273  0.882082     42056\n",
      "weighted avg   0.885317  0.882324  0.882088     42056\n",
      "\n",
      "              precision    recall  f1-score   support\n",
      "\n",
      "           0   0.850129  0.925704  0.886308     21024\n",
      "           1   0.918489  0.836868  0.875781     21032\n",
      "\n",
      "    accuracy                       0.881277     42056\n",
      "   macro avg   0.884309  0.881286  0.881044     42056\n",
      "weighted avg   0.884315  0.881277  0.881043     42056\n",
      "\n",
      "              precision    recall  f1-score   support\n",
      "\n",
      "           0   0.850264  0.926609  0.886796     21038\n",
      "           1   0.919289  0.836672  0.876037     21019\n",
      "\n",
      "    accuracy                       0.881661     42057\n",
      "   macro avg   0.884776  0.881640  0.881417     42057\n",
      "weighted avg   0.884761  0.881661  0.881419     42057\n",
      "\n",
      "Validation Reports:\n",
      "               precision    recall  f1-score   support\n",
      "\n",
      "           0   0.999289  0.999668  0.999478     21080\n",
      "           1   0.999666  0.999285  0.999475     20976\n",
      "\n",
      "    accuracy                       0.999477     42056\n",
      "   macro avg   0.999477  0.999476  0.999477     42056\n",
      "weighted avg   0.999477  0.999477  0.999477     42056\n",
      "\n",
      "              precision    recall  f1-score   support\n",
      "\n",
      "           0   0.999049  0.999715  0.999382     21020\n",
      "           1   0.999715  0.999049  0.999382     21036\n",
      "\n",
      "    accuracy                       0.999382     42056\n",
      "   macro avg   0.999382  0.999382  0.999382     42056\n",
      "weighted avg   0.999382  0.999382  0.999382     42056\n",
      "\n",
      "              precision    recall  f1-score   support\n",
      "\n",
      "           0   0.998810  0.999619  0.999214     20996\n",
      "           1   0.999620  0.998813  0.999216     21060\n",
      "\n",
      "    accuracy                       0.999215     42056\n",
      "   macro avg   0.999215  0.999216  0.999215     42056\n",
      "weighted avg   0.999216  0.999215  0.999215     42056\n",
      "\n",
      "              precision    recall  f1-score   support\n",
      "\n",
      "           0   0.998953  0.999619  0.999286     20991\n",
      "           1   0.999620  0.998956  0.999288     21065\n",
      "\n",
      "    accuracy                       0.999287     42056\n",
      "   macro avg   0.999286  0.999287  0.999287     42056\n",
      "weighted avg   0.999287  0.999287  0.999287     42056\n",
      "\n",
      "              precision    recall  f1-score   support\n",
      "\n",
      "           0   0.998338  0.999620  0.998979     21034\n",
      "           1   0.999619  0.998335  0.998977     21022\n",
      "\n",
      "    accuracy                       0.998978     42056\n",
      "   macro avg   0.998979  0.998977  0.998978     42056\n",
      "weighted avg   0.998978  0.998978  0.998978     42056\n",
      "\n",
      "              precision    recall  f1-score   support\n",
      "\n",
      "           0   0.998906  0.999714  0.999310     21014\n",
      "           1   0.999715  0.998907  0.999311     21042\n",
      "\n",
      "    accuracy                       0.999310     42056\n",
      "   macro avg   0.999311  0.999311  0.999310     42056\n",
      "weighted avg   0.999311  0.999310  0.999310     42056\n",
      "\n",
      "              precision    recall  f1-score   support\n",
      "\n",
      "           0   0.998954  0.999524  0.999239     21027\n",
      "           1   0.999524  0.998954  0.999239     21029\n",
      "\n",
      "    accuracy                       0.999239     42056\n",
      "   macro avg   0.999239  0.999239  0.999239     42056\n",
      "weighted avg   0.999239  0.999239  0.999239     42056\n",
      "\n",
      "              precision    recall  f1-score   support\n",
      "\n",
      "           0   0.999051  0.999762  0.999406     21052\n",
      "           1   0.999762  0.999048  0.999405     21004\n",
      "\n",
      "    accuracy                       0.999406     42056\n",
      "   macro avg   0.999406  0.999405  0.999406     42056\n",
      "weighted avg   0.999406  0.999406  0.999406     42056\n",
      "\n",
      "              precision    recall  f1-score   support\n",
      "\n",
      "           0   0.998575  0.999619  0.999097     21024\n",
      "           1   0.999619  0.998574  0.999096     21032\n",
      "\n",
      "    accuracy                       0.999096     42056\n",
      "   macro avg   0.999097  0.999097  0.999096     42056\n",
      "weighted avg   0.999097  0.999096  0.999096     42056\n",
      "\n",
      "              precision    recall  f1-score   support\n",
      "\n",
      "           0   0.999240  0.999667  0.999453     21038\n",
      "           1   0.999667  0.999239  0.999453     21019\n",
      "\n",
      "    accuracy                       0.999453     42057\n",
      "   macro avg   0.999453  0.999453  0.999453     42057\n",
      "weighted avg   0.999453  0.999453  0.999453     42057\n",
      "\n",
      "Test Reports:\n",
      "               precision    recall  f1-score   support\n",
      "\n",
      "           0   0.840637  0.923818  0.880267      2284\n",
      "           1   0.919556  0.832566  0.873902      2389\n",
      "\n",
      "    accuracy                       0.877167      4673\n",
      "   macro avg   0.880097  0.878192  0.877084      4673\n",
      "weighted avg   0.880983  0.877167  0.877013      4673\n",
      "\n",
      "              precision    recall  f1-score   support\n",
      "\n",
      "           0   0.849627  0.923208  0.884891      2344\n",
      "           1   0.915334  0.835552  0.873625      2329\n",
      "\n",
      "    accuracy                       0.879521      4673\n",
      "   macro avg   0.882480  0.879380  0.879258      4673\n",
      "weighted avg   0.882375  0.879521  0.879276      4673\n",
      "\n",
      "              precision    recall  f1-score   support\n",
      "\n",
      "           0   0.858087  0.932010  0.893522      2368\n",
      "           1   0.923370  0.841649  0.880617      2305\n",
      "\n",
      "    accuracy                       0.887438      4673\n",
      "   macro avg   0.890728  0.886829  0.887070      4673\n",
      "weighted avg   0.890288  0.887438  0.887157      4673\n",
      "\n",
      "              precision    recall  f1-score   support\n",
      "\n",
      "           0   0.851455  0.937210  0.892277      2373\n",
      "           1   0.927705  0.831304  0.876863      2300\n",
      "\n",
      "    accuracy                       0.885085      4673\n",
      "   macro avg   0.889580  0.884257  0.884570      4673\n",
      "weighted avg   0.888984  0.885085  0.884690      4673\n",
      "\n",
      "              precision    recall  f1-score   support\n",
      "\n",
      "           0   0.848700  0.924464  0.884963      2330\n",
      "           1   0.917564  0.836108  0.874944      2343\n",
      "\n",
      "    accuracy                       0.880163      4673\n",
      "   macro avg   0.883132  0.880286  0.879954      4673\n",
      "weighted avg   0.883228  0.880163  0.879940      4673\n",
      "\n",
      "              precision    recall  f1-score   support\n",
      "\n",
      "           0   0.848141  0.922128  0.883588      2350\n",
      "           1   0.913598  0.832975  0.871425      2323\n",
      "\n",
      "    accuracy                       0.877809      4673\n",
      "   macro avg   0.880869  0.877551  0.877507      4673\n",
      "weighted avg   0.880680  0.877809  0.877542      4673\n",
      "\n",
      "              precision    recall  f1-score   support\n",
      "\n",
      "           0   0.836250  0.919983  0.876121      2337\n",
      "           1   0.911037  0.819777  0.863001      2336\n",
      "\n",
      "    accuracy                       0.869891      4673\n",
      "   macro avg   0.873644  0.869880  0.869561      4673\n",
      "weighted avg   0.873636  0.869891  0.869562      4673\n",
      "\n",
      "              precision    recall  f1-score   support\n",
      "\n",
      "           0   0.840909  0.928201  0.882401      2312\n",
      "           1   0.921735  0.828039  0.872378      2361\n",
      "\n",
      "    accuracy                       0.877595      4673\n",
      "   macro avg   0.881322  0.878120  0.877390      4673\n",
      "weighted avg   0.881746  0.877595  0.877337      4673\n",
      "\n",
      "              precision    recall  f1-score   support\n",
      "\n",
      "           0   0.857711  0.922222  0.888797      2340\n",
      "           1   0.915624  0.846550  0.879733      2333\n",
      "\n",
      "    accuracy                       0.884443      4673\n",
      "   macro avg   0.886667  0.884386  0.884265      4673\n",
      "weighted avg   0.886624  0.884443  0.884272      4673\n",
      "\n",
      "              precision    recall  f1-score   support\n",
      "\n",
      "           0   0.861320  0.937231  0.897673      2326\n",
      "           1   0.931808  0.850384  0.889236      2346\n",
      "\n",
      "    accuracy                       0.893622      4672\n",
      "   macro avg   0.896564  0.893807  0.893455      4672\n",
      "weighted avg   0.896714  0.893622  0.893436      4672\n",
      "\n"
     ]
    }
   ],
   "source": [
    "import numpy as np\n",
    "import pandas as pd\n",
    "from sklearn.datasets import make_classification\n",
    "from sklearn.model_selection import KFold, GridSearchCV, cross_val_predict\n",
    "from sklearn.ensemble import RandomForestClassifier\n",
    "from sklearn.metrics import classification_report\n",
    "\n",
    "# Configure the cross-validation procedure\n",
    "cv_inner = KFold(n_splits=3, shuffle=True, random_state=42)\n",
    "cv_outer = KFold(n_splits=10, shuffle=True, random_state=1)\n",
    "\n",
    "# Define the model\n",
    "model = RandomForestClassifier(random_state=42)\n",
    "\n",
    "# Define search space\n",
    "space = dict()\n",
    "space['n_estimators'] = [40, 50, 60]\n",
    "space['max_features'] = [None, 5, 10]\n",
    "\n",
    "# Initialize lists to hold classification reports\n",
    "train_reports = []\n",
    "valid_reports = []\n",
    "test_reports = []\n",
    "\n",
    "# Perform nested cross-validation\n",
    "for train_index, test_index in cv_outer.split(input_cols_res_K):\n",
    "    X_train, X_test = input_cols_res_K.iloc[train_index], input_cols_res_K.iloc[test_index]\n",
    "    y_train, y_test = target_col_res_K.iloc[train_index], target_col_res_K.iloc[test_index]\n",
    "\n",
    "    # Inner loop: GridSearchCV with inner cross-validation\n",
    "    search = GridSearchCV(model, space, scoring='f1', cv=cv_inner, n_jobs=1)\n",
    "    search.fit(X_train, y_train)\n",
    "    \n",
    "    # Get the best estimator from the grid search\n",
    "    best_estimator = search.best_estimator_\n",
    "\n",
    "    # Predict on the training set using cross-validation\n",
    "    y_train_pred = cross_val_predict(best_estimator, X_train, y_train, cv=cv_inner)\n",
    "\n",
    "    # Predict on the validation set (held-out fold during inner CV)\n",
    "    y_valid_pred = search.predict(X_train)\n",
    "    \n",
    "    # Predict on the test (outer CV) set\n",
    "    y_test_pred = best_estimator.predict(X_test)\n",
    "    \n",
    "    # Generate classification reports\n",
    "    train_report = classification_report(y_train, y_train_pred, digits=6)\n",
    "    valid_report = classification_report(y_train, y_valid_pred, digits=6)\n",
    "    test_report = classification_report(y_test, y_test_pred, digits=6)\n",
    "\n",
    "    train_reports.append(train_report)\n",
    "    valid_reports.append(valid_report)\n",
    "    test_reports.append(test_report)\n",
    "\n",
    "# Display the reports\n",
    "print(\"Training Reports:\\n\", \"\\n\".join(train_reports))\n",
    "print(\"Validation Reports:\\n\", \"\\n\".join(valid_reports))\n",
    "print(\"Test Reports:\\n\", \"\\n\".join(test_reports))"
   ]
  }
 ],
 "metadata": {
  "kernelspec": {
   "display_name": "base",
   "language": "python",
   "name": "python3"
  },
  "language_info": {
   "codemirror_mode": {
    "name": "ipython",
    "version": 3
   },
   "file_extension": ".py",
   "mimetype": "text/x-python",
   "name": "python",
   "nbconvert_exporter": "python",
   "pygments_lexer": "ipython3",
   "version": "3.11.4"
  }
 },
 "nbformat": 4,
 "nbformat_minor": 2
}
