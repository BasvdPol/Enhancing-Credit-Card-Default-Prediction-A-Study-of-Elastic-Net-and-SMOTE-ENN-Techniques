{
 "cells": [
  {
   "cell_type": "code",
   "execution_count": 1,
   "metadata": {},
   "outputs": [
    {
     "name": "stdout",
     "output_type": "stream",
     "text": [
      "[0.9265873  0.92682927 0.944      0.93158954 0.922      0.92759295\n",
      " 0.93893894 0.918      0.93990148 0.93123772 0.93756194 0.93794507\n",
      " 0.93280632 0.94472362 0.93333333 0.93975904 0.93638171 0.93333333\n",
      " 0.91214215 0.92663317 0.92214358 0.9395441  0.937751   0.9244713\n",
      " 0.92821031 0.91983968 0.92592593 0.94935452 0.93333333 0.94366197\n",
      " 0.9448345  0.94354839 0.93145161 0.91929134 0.94559842 0.90709291\n",
      " 0.93253968 0.91935484 0.93452381 0.92892893 0.94       0.92507493\n",
      " 0.9195171  0.9254902  0.92413793 0.91515152 0.93642785 0.94549058\n",
      " 0.93158954 0.93897638 0.93482688 0.94444444 0.93629929 0.93175074\n",
      " 0.93426295 0.91809909 0.93718843 0.94864048 0.92949355 0.92445328\n",
      " 0.93186373 0.9486166  0.92673267 0.94094094 0.90524194 0.93429158\n",
      " 0.93069307 0.90669371 0.94246032 0.944      0.93413174 0.93532338\n",
      " 0.92736318 0.9445005  0.92292089 0.91658291 0.94105894 0.94715852\n",
      " 0.9497992  0.926      0.91919192 0.94271357 0.93646139 0.94851485\n",
      " 0.93279022 0.93493493 0.93359762 0.92543412 0.92323031 0.93093093\n",
      " 0.92170466 0.92871287 0.9416499  0.93213573 0.94715852 0.94153226\n",
      " 0.91348089 0.93482688 0.93688363 0.92736318]\n"
     ]
    }
   ],
   "source": [
    "from sklearn.ensemble import RandomForestClassifier\n",
    "from sklearn.datasets import make_classification\n",
    "from sklearn.metrics import f1_score\n",
    "import numpy as np\n",
    "\n",
    "# Generate sample data\n",
    "X, y = make_classification(n_samples=1000, n_features=20, n_classes=2, random_state=42)\n",
    "\n",
    "# Initialize a random forest classifier\n",
    "rf_model = RandomForestClassifier(n_estimators=100, random_state=42)\n",
    "\n",
    "# Fit the model\n",
    "rf_model.fit(X, y)\n",
    "\n",
    "# Initialize an empty array to store f1 scores\n",
    "f1_scores = np.zeros((len(rf_model.estimators_)))\n",
    "\n",
    "# Iterate over each tree in the random forest\n",
    "for i, tree in enumerate(rf_model.estimators_):\n",
    "    # Make predictions using the current tree\n",
    "    y_pred = tree.predict(X)\n",
    "    # Calculate the f1 score for the current tree\n",
    "    f1_scores[i] = f1_score(y, y_pred)\n",
    "\n",
    "# Now, f1_scores contains the f1 score of each tree in the random forest\n",
    "print(f1_scores)\n"
   ]
  },
  {
   "cell_type": "code",
   "execution_count": 8,
   "metadata": {},
   "outputs": [
    {
     "name": "stdout",
     "output_type": "stream",
     "text": [
      "There is no significant difference between the F1 scores of the two models.\n"
     ]
    }
   ],
   "source": [
    "from sklearn.ensemble import RandomForestClassifier\n",
    "from sklearn.datasets import make_classification\n",
    "from sklearn.metrics import f1_score\n",
    "import numpy as np\n",
    "from scipy.stats import ttest_ind\n",
    "\n",
    "# Function to calculate F1 scores for a random forest model\n",
    "def calculate_f1_scores(model, X, y):\n",
    "    f1_scores = np.zeros((len(model.estimators_)))\n",
    "    for i, tree in enumerate(model.estimators_):\n",
    "        y_pred = tree.predict(X)\n",
    "        f1_scores[i] = f1_score(y, y_pred)\n",
    "    return f1_scores\n",
    "\n",
    "# Generate sample data\n",
    "X, y = make_classification(n_samples=1000, n_features=20, n_classes=2, random_state=42)\n",
    "\n",
    "# Initialize two random forest classifiers with different parameters\n",
    "rf_model_1 = RandomForestClassifier(n_estimators=100, random_state=42)\n",
    "rf_model_2 = RandomForestClassifier(n_estimators=2, random_state=42)\n",
    "\n",
    "# Fit the models\n",
    "rf_model_1.fit(X, y)\n",
    "rf_model_2.fit(X, y)\n",
    "\n",
    "# Calculate F1 scores for each model\n",
    "f1_scores_1 = calculate_f1_scores(rf_model_1, X, y)\n",
    "f1_scores_2 = calculate_f1_scores(rf_model_2, X, y)\n",
    "\n",
    "# Perform t-test to compare the F1 scores of the two models\n",
    "t_stat, p_value = ttest_ind(f1_scores_1, f1_scores_2)\n",
    "\n",
    "# Check if the difference is statistically significant\n",
    "if p_value < 0.05:\n",
    "    print(\"There is a significant difference between the F1 scores of the two models.\")\n",
    "else:\n",
    "    print(\"There is no significant difference between the F1 scores of the two models.\")\n"
   ]
  },
  {
   "cell_type": "code",
   "execution_count": 9,
   "metadata": {},
   "outputs": [
    {
     "name": "stdout",
     "output_type": "stream",
     "text": [
      "0.4439234355587395\n"
     ]
    }
   ],
   "source": [
    "print(p_value)"
   ]
  },
  {
   "cell_type": "code",
   "execution_count": 3,
   "metadata": {},
   "outputs": [
    {
     "name": "stdout",
     "output_type": "stream",
     "text": [
      "There is a significant difference between the F1 scores of the two models.\n"
     ]
    }
   ],
   "source": [
    "from sklearn.ensemble import RandomForestClassifier\n",
    "from sklearn.datasets import make_classification\n",
    "from sklearn.metrics import f1_score\n",
    "import numpy as np\n",
    "from scipy.stats import ttest_ind\n",
    "\n",
    "# Function to calculate F1 scores for a random forest model\n",
    "def calculate_f1_scores(model, X, y):\n",
    "    f1_scores = np.zeros((len(model.estimators_)))\n",
    "    for i, tree in enumerate(model.estimators_):\n",
    "        y_pred = tree.predict(X)\n",
    "        f1_scores[i] = f1_score(y, y_pred)\n",
    "    return f1_scores\n",
    "\n",
    "# Generate two sample datasets with different numbers of rows\n",
    "X1, y1 = make_classification(n_samples=1000, n_features=20, n_classes=2, random_state=42)\n",
    "X2, y2 = make_classification(n_samples=1500, n_features=20, n_classes=2, random_state=42)\n",
    "\n",
    "# Initialize two random forest classifiers with the same parameters\n",
    "rf_model_1 = RandomForestClassifier(n_estimators=100, random_state=42)\n",
    "rf_model_2 = RandomForestClassifier(n_estimators=100, random_state=42)\n",
    "\n",
    "# Fit the models with their respective datasets\n",
    "rf_model_1.fit(X1, y1)\n",
    "rf_model_2.fit(X2, y2)\n",
    "\n",
    "# Calculate F1 scores for each model\n",
    "f1_scores_1 = calculate_f1_scores(rf_model_1, X1, y1)\n",
    "f1_scores_2 = calculate_f1_scores(rf_model_2, X2, y2)\n",
    "\n",
    "# Perform t-test to compare the F1 scores of the two models\n",
    "t_stat, p_value = ttest_ind(f1_scores_1, f1_scores_2)\n",
    "\n",
    "# Check if the difference is statistically significant\n",
    "if p_value < 0.05:\n",
    "    print(\"There is a significant difference between the F1 scores of the two models.\")\n",
    "else:\n",
    "    print(\"There is no significant difference between the F1 scores of the two models.\")\n"
   ]
  },
  {
   "cell_type": "code",
   "execution_count": 4,
   "metadata": {},
   "outputs": [
    {
     "name": "stdout",
     "output_type": "stream",
     "text": [
      "6.457813997474017e-38\n"
     ]
    }
   ],
   "source": [
    "print(p_value)"
   ]
  }
 ],
 "metadata": {
  "kernelspec": {
   "display_name": "base",
   "language": "python",
   "name": "python3"
  },
  "language_info": {
   "codemirror_mode": {
    "name": "ipython",
    "version": 3
   },
   "file_extension": ".py",
   "mimetype": "text/x-python",
   "name": "python",
   "nbconvert_exporter": "python",
   "pygments_lexer": "ipython3",
   "version": "3.11.4"
  }
 },
 "nbformat": 4,
 "nbformat_minor": 2
}
