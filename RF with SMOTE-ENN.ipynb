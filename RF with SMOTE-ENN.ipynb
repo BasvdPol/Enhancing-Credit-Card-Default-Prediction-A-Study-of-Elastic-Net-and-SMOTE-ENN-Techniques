{
 "cells": [
  {
   "cell_type": "code",
   "execution_count": null,
   "metadata": {},
   "outputs": [],
   "source": [
    "################################ RF with SMOTE-ENN ################################"
   ]
  },
  {
   "cell_type": "code",
   "execution_count": null,
   "metadata": {},
   "outputs": [],
   "source": [
    "#### Uploading the dataset and make some changes ####"
   ]
  },
  {
   "cell_type": "code",
   "execution_count": 1,
   "metadata": {},
   "outputs": [],
   "source": [
    "# Start with importing the Taiwanese bank dataset.\n",
    "import pandas as pd\n",
    "\n",
    "df = pd.read_csv('C:/Users/basvd/OneDrive/Documenten/Tilburg University/Master Data Science & Society/Thesis/Data sets/Taiwan 2005 default credit card data set.csv')\n",
    "\n"
   ]
  },
  {
   "cell_type": "code",
   "execution_count": 2,
   "metadata": {},
   "outputs": [
    {
     "name": "stdout",
     "output_type": "stream",
     "text": [
      "   ID  LIMIT_BAL  SEX  EDUCATION  MARRIAGE  AGE  PAY_0  PAY_2  PAY_3  PAY_4  \\\n",
      "0   1    20000.0    2          2         1   24      2      2     -1     -1   \n",
      "1   2   120000.0    2          2         2   26     -1      2      0      0   \n",
      "2   3    90000.0    2          2         2   34      0      0      0      0   \n",
      "3   4    50000.0    2          2         1   37      0      0      0      0   \n",
      "4   5    50000.0    1          2         1   57     -1      0     -1      0   \n",
      "\n",
      "   ...  BILL_AMT4  BILL_AMT5  BILL_AMT6  PAY_AMT1  PAY_AMT2  PAY_AMT3  \\\n",
      "0  ...        0.0        0.0        0.0       0.0     689.0       0.0   \n",
      "1  ...     3272.0     3455.0     3261.0       0.0    1000.0    1000.0   \n",
      "2  ...    14331.0    14948.0    15549.0    1518.0    1500.0    1000.0   \n",
      "3  ...    28314.0    28959.0    29547.0    2000.0    2019.0    1200.0   \n",
      "4  ...    20940.0    19146.0    19131.0    2000.0   36681.0   10000.0   \n",
      "\n",
      "   PAY_AMT4  PAY_AMT5  PAY_AMT6  default.payment.next.month  \n",
      "0       0.0       0.0       0.0                           1  \n",
      "1    1000.0       0.0    2000.0                           1  \n",
      "2    1000.0    1000.0    5000.0                           0  \n",
      "3    1100.0    1069.0    1000.0                           0  \n",
      "4    9000.0     689.0     679.0                           0  \n",
      "\n",
      "[5 rows x 25 columns]\n"
     ]
    }
   ],
   "source": [
    "# Show how to dataset looks like.\n",
    "print(df.head())"
   ]
  },
  {
   "cell_type": "code",
   "execution_count": 3,
   "metadata": {},
   "outputs": [
    {
     "name": "stdout",
     "output_type": "stream",
     "text": [
      "   LIMIT_BAL  SEX  EDUCATION  MARRIAGE  AGE  PAY_0  PAY_2  PAY_3  PAY_4  \\\n",
      "0    20000.0    2          2         1   24      2      2     -1     -1   \n",
      "1   120000.0    2          2         2   26     -1      2      0      0   \n",
      "2    90000.0    2          2         2   34      0      0      0      0   \n",
      "3    50000.0    2          2         1   37      0      0      0      0   \n",
      "4    50000.0    1          2         1   57     -1      0     -1      0   \n",
      "\n",
      "   PAY_5  ...  BILL_AMT4  BILL_AMT5  BILL_AMT6  PAY_AMT1  PAY_AMT2  PAY_AMT3  \\\n",
      "0     -2  ...        0.0        0.0        0.0       0.0     689.0       0.0   \n",
      "1      0  ...     3272.0     3455.0     3261.0       0.0    1000.0    1000.0   \n",
      "2      0  ...    14331.0    14948.0    15549.0    1518.0    1500.0    1000.0   \n",
      "3      0  ...    28314.0    28959.0    29547.0    2000.0    2019.0    1200.0   \n",
      "4      0  ...    20940.0    19146.0    19131.0    2000.0   36681.0   10000.0   \n",
      "\n",
      "   PAY_AMT4  PAY_AMT5  PAY_AMT6  default.payment.next.month  \n",
      "0       0.0       0.0       0.0                           1  \n",
      "1    1000.0       0.0    2000.0                           1  \n",
      "2    1000.0    1000.0    5000.0                           0  \n",
      "3    1100.0    1069.0    1000.0                           0  \n",
      "4    9000.0     689.0     679.0                           0  \n",
      "\n",
      "[5 rows x 24 columns]\n"
     ]
    }
   ],
   "source": [
    "#Drop the ID column, since it has no value to the models that need to be made.\n",
    "df = df.drop(df.columns[0], axis=1)\n",
    "print(df.head())"
   ]
  },
  {
   "cell_type": "code",
   "execution_count": 4,
   "metadata": {},
   "outputs": [
    {
     "data": {
      "text/plain": [
       "LIMIT_BAL                     0\n",
       "SEX                           0\n",
       "EDUCATION                     0\n",
       "MARRIAGE                      0\n",
       "AGE                           0\n",
       "PAY_0                         0\n",
       "PAY_2                         0\n",
       "PAY_3                         0\n",
       "PAY_4                         0\n",
       "PAY_5                         0\n",
       "PAY_6                         0\n",
       "BILL_AMT1                     0\n",
       "BILL_AMT2                     0\n",
       "BILL_AMT3                     0\n",
       "BILL_AMT4                     0\n",
       "BILL_AMT5                     0\n",
       "BILL_AMT6                     0\n",
       "PAY_AMT1                      0\n",
       "PAY_AMT2                      0\n",
       "PAY_AMT3                      0\n",
       "PAY_AMT4                      0\n",
       "PAY_AMT5                      0\n",
       "PAY_AMT6                      0\n",
       "default.payment.next.month    0\n",
       "dtype: int64"
      ]
     },
     "execution_count": 4,
     "metadata": {},
     "output_type": "execute_result"
    }
   ],
   "source": [
    "# See if there is any row with NA values in there.\n",
    "## Below shows that there is no row with an NA value, meaning that we do not have to drop any row or fill it with, for example, the average.\n",
    "df.isnull().sum()"
   ]
  },
  {
   "cell_type": "code",
   "execution_count": 5,
   "metadata": {},
   "outputs": [
    {
     "name": "stdout",
     "output_type": "stream",
     "text": [
      "       LIMIT_BAL  SEX  EDUCATION  MARRIAGE       AGE  PAY_0  PAY_2  PAY_3  \\\n",
      "0       0.010101    2          2         1  0.051724      2      2     -1   \n",
      "1       0.111111    2          2         2  0.086207     -1      2      0   \n",
      "2       0.080808    2          2         2  0.224138      0      0      0   \n",
      "3       0.040404    2          2         1  0.275862      0      0      0   \n",
      "4       0.040404    1          2         1  0.620690     -1      0     -1   \n",
      "...          ...  ...        ...       ...       ...    ...    ...    ...   \n",
      "29995   0.212121    1          3         1  0.310345      0      0      0   \n",
      "29996   0.141414    1          3         2  0.379310     -1     -1     -1   \n",
      "29997   0.020202    1          2         2  0.275862      4      3      2   \n",
      "29998   0.070707    1          3         1  0.344828      1     -1      0   \n",
      "29999   0.040404    1          2         1  0.431034      0      0      0   \n",
      "\n",
      "       PAY_4  PAY_5  ...  BILL_AMT4  BILL_AMT5  BILL_AMT6  PAY_AMT1  PAY_AMT2  \\\n",
      "0         -1     -2  ...   0.160138   0.080648   0.260979  0.000000  0.000409   \n",
      "1          0      0  ...   0.163220   0.084074   0.263485  0.000000  0.000594   \n",
      "2          0      0  ...   0.173637   0.095470   0.272928  0.001738  0.000891   \n",
      "3          0      0  ...   0.186809   0.109363   0.283685  0.002290  0.001199   \n",
      "4          0      0  ...   0.179863   0.099633   0.275681  0.002290  0.021779   \n",
      "...      ...    ...  ...        ...        ...        ...       ...       ...   \n",
      "29995      0      0  ...   0.243036   0.111622   0.273259  0.009730  0.011875   \n",
      "29996     -1      0  ...   0.168596   0.085794   0.260979  0.002103  0.002094   \n",
      "29997     -1      0  ...   0.179805   0.101057   0.275854  0.000000  0.000000   \n",
      "29998      0      0  ...   0.209850   0.092403   0.298591  0.098334  0.002024   \n",
      "29999      0      0  ...   0.194553   0.112803   0.272746  0.002379  0.001069   \n",
      "\n",
      "       PAY_AMT3  PAY_AMT4  PAY_AMT5  PAY_AMT6  default.payment.next.month  \n",
      "0      0.000000  0.000000  0.000000  0.000000                           1  \n",
      "1      0.001116  0.001610  0.000000  0.003783                           1  \n",
      "2      0.001116  0.001610  0.002345  0.009458                           0  \n",
      "3      0.001339  0.001771  0.002506  0.001892                           0  \n",
      "4      0.011160  0.014493  0.001615  0.001284                           0  \n",
      "...         ...       ...       ...       ...                         ...  \n",
      "29995  0.005583  0.004907  0.011723  0.001892                           0  \n",
      "29996  0.010042  0.000208  0.000000  0.000000                           0  \n",
      "29997  0.024552  0.006763  0.004689  0.005864                           1  \n",
      "29998  0.001315  0.003101  0.124174  0.003412                           1  \n",
      "29999  0.001596  0.001610  0.002345  0.001892                           1  \n",
      "\n",
      "[30000 rows x 24 columns]\n"
     ]
    }
   ],
   "source": [
    "# Normalize (just like in the last paper) the non-categorical independent variables.\n",
    "from sklearn.preprocessing import MinMaxScaler\n",
    "\n",
    "# Specify the columns you want to normalize\n",
    "columns_to_normalize = ['LIMIT_BAL', 'BILL_AMT1', 'BILL_AMT2', 'BILL_AMT3', \n",
    "                        'BILL_AMT4', 'BILL_AMT5', 'BILL_AMT6', 'PAY_AMT1', \n",
    "                        'PAY_AMT2', 'PAY_AMT3', 'PAY_AMT4', 'PAY_AMT5', 'PAY_AMT6', 'AGE']\n",
    "\n",
    "# Create a MinMaxScaler object\n",
    "scaler = MinMaxScaler()\n",
    "\n",
    "# Fit the scaler to the specified columns and transform them\n",
    "df[columns_to_normalize] = scaler.fit_transform(df[columns_to_normalize])\n",
    "\n",
    "# Display the normalized DataFrame\n",
    "print(df)"
   ]
  },
  {
   "cell_type": "code",
   "execution_count": 6,
   "metadata": {},
   "outputs": [
    {
     "name": "stdout",
     "output_type": "stream",
     "text": [
      "Minimum values:\n",
      "LIMIT_BAL                     0.0\n",
      "SEX                           1.0\n",
      "EDUCATION                     0.0\n",
      "MARRIAGE                      0.0\n",
      "AGE                           0.0\n",
      "PAY_0                        -2.0\n",
      "PAY_2                        -2.0\n",
      "PAY_3                        -2.0\n",
      "PAY_4                        -2.0\n",
      "PAY_5                        -2.0\n",
      "PAY_6                        -2.0\n",
      "BILL_AMT1                     0.0\n",
      "BILL_AMT2                     0.0\n",
      "BILL_AMT3                     0.0\n",
      "BILL_AMT4                     0.0\n",
      "BILL_AMT5                     0.0\n",
      "BILL_AMT6                     0.0\n",
      "PAY_AMT1                      0.0\n",
      "PAY_AMT2                      0.0\n",
      "PAY_AMT3                      0.0\n",
      "PAY_AMT4                      0.0\n",
      "PAY_AMT5                      0.0\n",
      "PAY_AMT6                      0.0\n",
      "default.payment.next.month    0.0\n",
      "dtype: float64\n",
      "\n",
      "Maximum values:\n",
      "LIMIT_BAL                     1.0\n",
      "SEX                           2.0\n",
      "EDUCATION                     6.0\n",
      "MARRIAGE                      3.0\n",
      "AGE                           1.0\n",
      "PAY_0                         8.0\n",
      "PAY_2                         8.0\n",
      "PAY_3                         8.0\n",
      "PAY_4                         8.0\n",
      "PAY_5                         8.0\n",
      "PAY_6                         8.0\n",
      "BILL_AMT1                     1.0\n",
      "BILL_AMT2                     1.0\n",
      "BILL_AMT3                     1.0\n",
      "BILL_AMT4                     1.0\n",
      "BILL_AMT5                     1.0\n",
      "BILL_AMT6                     1.0\n",
      "PAY_AMT1                      1.0\n",
      "PAY_AMT2                      1.0\n",
      "PAY_AMT3                      1.0\n",
      "PAY_AMT4                      1.0\n",
      "PAY_AMT5                      1.0\n",
      "PAY_AMT6                      1.0\n",
      "default.payment.next.month    1.0\n",
      "dtype: float64\n"
     ]
    }
   ],
   "source": [
    "# Print the minimum and maximum values of the columns to check if they are indeed normalised.\n",
    "print(\"Minimum values:\")\n",
    "print(df.min())\n",
    "\n",
    "print(\"\\nMaximum values:\")\n",
    "print(df.max())"
   ]
  },
  {
   "cell_type": "code",
   "execution_count": 7,
   "metadata": {},
   "outputs": [
    {
     "name": "stdout",
     "output_type": "stream",
     "text": [
      "Original dataset shape Counter({0: 23364, 1: 6636})\n"
     ]
    }
   ],
   "source": [
    "# First we will see how the classes are divided.\n",
    "from collections import Counter\n",
    "\n",
    "# First we will see how the classes are divided.\n",
    "input_cols = df.drop(columns='default.payment.next.month')\n",
    "target_col = df['default.payment.next.month']\n",
    "print('Original dataset shape %s' % Counter(target_col))"
   ]
  },
  {
   "cell_type": "code",
   "execution_count": 8,
   "metadata": {},
   "outputs": [
    {
     "name": "stderr",
     "output_type": "stream",
     "text": [
      "c:\\Users\\basvd\\anaconda3\\Lib\\site-packages\\joblib\\externals\\loky\\backend\\context.py:110: UserWarning: Could not find the number of physical cores for the following reason:\n",
      "found 0 physical cores < 1\n",
      "Returning the number of logical cores instead. You can silence this warning by setting LOKY_MAX_CPU_COUNT to the number of cores you want to use.\n",
      "  warnings.warn(\n",
      "  File \"c:\\Users\\basvd\\anaconda3\\Lib\\site-packages\\joblib\\externals\\loky\\backend\\context.py\", line 217, in _count_physical_cores\n",
      "    raise ValueError(\n"
     ]
    },
    {
     "name": "stdout",
     "output_type": "stream",
     "text": [
      "Resampled dataset shape Counter({1: 15422, 0: 12129})\n"
     ]
    }
   ],
   "source": [
    "# Now we will implement SMOTE-ENN to get the classes balanced again.\n",
    "from imblearn.combine import SMOTEENN\n",
    "from collections import Counter\n",
    "\n",
    "# Apply SMOTE-ENN\n",
    "smote_enn = SMOTEENN(sampling_strategy='auto', random_state=42)\n",
    "input_cols_res_ENN, target_col_res_ENN = smote_enn.fit_resample(input_cols, target_col)\n",
    "print('Resampled dataset shape %s' % Counter(target_col_res_ENN))"
   ]
  },
  {
   "cell_type": "code",
   "execution_count": null,
   "metadata": {},
   "outputs": [],
   "source": [
    "#### Nested K-fold cross-validation ####"
   ]
  },
  {
   "cell_type": "code",
   "execution_count": 9,
   "metadata": {},
   "outputs": [
    {
     "name": "stdout",
     "output_type": "stream",
     "text": [
      "              precision    recall  f1-score   support\n",
      "\n",
      "           0     0.9023    0.9415    0.9215     12129\n",
      "           1     0.9523    0.9199    0.9358     15422\n",
      "\n",
      "    accuracy                         0.9294     27551\n",
      "   macro avg     0.9273    0.9307    0.9286     27551\n",
      "weighted avg     0.9303    0.9294    0.9295     27551\n",
      "\n",
      "F1 Score: 0.9358\n"
     ]
    }
   ],
   "source": [
    "# SMOTE-ENN plus automatic nested cross-validation for random forest on a classification dataset\n",
    "from numpy import mean\n",
    "from numpy import std\n",
    "from sklearn.datasets import make_classification\n",
    "from sklearn.model_selection import cross_val_score\n",
    "from sklearn.model_selection import KFold\n",
    "from sklearn.model_selection import GridSearchCV\n",
    "from sklearn.ensemble import RandomForestClassifier\n",
    "from sklearn.metrics import classification_report\n",
    "from sklearn.model_selection import cross_val_predict\n",
    "from sklearn.metrics import f1_score\n",
    "\n",
    "# configure the cross-validation procedure\n",
    "cv_inner_ENN = KFold(n_splits=3, shuffle=True, random_state=42)\n",
    "# define the model\n",
    "model = RandomForestClassifier(random_state=42)\n",
    "# define search space\n",
    "space = dict()\n",
    "space['n_estimators'] = [40, 50, 60]\n",
    "space['max_features'] = [None, 5, 10]\n",
    "# define search\n",
    "search_ENN = GridSearchCV(model, space, scoring='f1', n_jobs=1, cv=cv_inner_ENN, refit=True)\n",
    "# configure the cross-validation procedure\n",
    "cv_outer_ENN = KFold(n_splits=10, shuffle=True, random_state=1)\n",
    "\n",
    "# Execute the nested cross-validation\n",
    "predicted_labels_ENN = cross_val_predict(search_ENN, input_cols_res_ENN, target_col_res_ENN, cv=cv_outer_ENN, n_jobs=-1)\n",
    "\n",
    "# Generate the classification report\n",
    "report_ENN = classification_report(target_col_res_ENN, predicted_labels_ENN, digits=4)\n",
    "print(report_ENN)\n",
    "\n",
    "from sklearn.metrics import f1_score\n",
    "# Calculate F1 score separately with more digits after the comma\n",
    "f1 = f1_score(target_col_res_ENN, predicted_labels_ENN)\n",
    "print(\"F1 Score:\", \"{:.4f}\".format(f1))"
   ]
  },
  {
   "cell_type": "code",
   "execution_count": 72,
   "metadata": {},
   "outputs": [
    {
     "name": "stdout",
     "output_type": "stream",
     "text": [
      "Recall: 0.9199\n",
      "Accuracy: 0.9294\n",
      "Precision: 0.9523\n"
     ]
    }
   ],
   "source": [
    "from sklearn.metrics import precision_score, recall_score, accuracy_score\n",
    "\n",
    "# Calculate recall, accuracy, and precision on the test set\n",
    "recall = recall_score(target_col_res_ENN, predicted_labels_ENN)\n",
    "print(\"Recall:\", \"{:.4f}\".format(recall))\n",
    "\n",
    "accuracy = accuracy_score(target_col_res_ENN, predicted_labels_ENN)\n",
    "print(\"Accuracy:\", \"{:.4f}\".format(accuracy))\n",
    "\n",
    "precision = precision_score(target_col_res_ENN, predicted_labels_ENN)\n",
    "print(\"Precision:\", \"{:.4f}\".format(precision))"
   ]
  },
  {
   "cell_type": "code",
   "execution_count": 73,
   "metadata": {},
   "outputs": [
    {
     "name": "stdout",
     "output_type": "stream",
     "text": [
      "Confusion Matrix:\n",
      "[[11419   710]\n",
      " [ 1236 14186]]\n"
     ]
    }
   ],
   "source": [
    "# Calculate confusion matrix\n",
    "from sklearn.metrics import confusion_matrix\n",
    "conf_matrix = confusion_matrix(target_col_res_ENN, predicted_labels_ENN)\n",
    "print(\"Confusion Matrix:\")\n",
    "print(conf_matrix)"
   ]
  },
  {
   "cell_type": "code",
   "execution_count": 75,
   "metadata": {},
   "outputs": [
    {
     "data": {
      "image/png": "[encoded data removed]",
      "text/plain": [
       "<Figure size 800x600 with 2 Axes>"
      ]
     },
     "metadata": {},
     "output_type": "display_data"
    }
   ],
   "source": [
    "import matplotlib.pyplot as plt\n",
    "import seaborn as sns\n",
    "from sklearn.metrics import confusion_matrix\n",
    "\n",
    "# Define plot_confusion_matrix function\n",
    "def plot_confusion_matrix(cm, set_name):\n",
    "    plt.figure(figsize=(8, 6))\n",
    "    sns.heatmap(cm, annot=True, fmt=\"d\", cmap=\"Blues\")\n",
    "    plt.title(f\"Confusion Matrix of the best Random Forest model with SMOTE-ENN\")\n",
    "    plt.xlabel(\"Predicted Label\")\n",
    "    plt.ylabel(\"True Label\")\n",
    "    plt.show()\n",
    "\n",
    "# Calculate confusion matrix\n",
    "conf_matrix = confusion_matrix(target_col_res_ENN, predicted_labels_ENN)\n",
    "\n",
    "# Plot confusion matrix\n",
    "plot_confusion_matrix(conf_matrix, \"Test\")"
   ]
  },
  {
   "cell_type": "code",
   "execution_count": 77,
   "metadata": {},
   "outputs": [
    {
     "name": "stdout",
     "output_type": "stream",
     "text": [
      "Best Hyperparameters: {'max_features': None, 'n_estimators': 60}\n"
     ]
    },
    {
     "data": {
      "image/png": "[encoded data removed]",
      "text/plain": [
       "<Figure size 640x480 with 1 Axes>"
      ]
     },
     "metadata": {},
     "output_type": "display_data"
    }
   ],
   "source": [
    "# Best hyperparameters and feature importance\n",
    "import matplotlib.pyplot as plt\n",
    "import pandas as pd\n",
    "search_ENN.fit(input_cols_res_ENN, target_col_res_ENN)\n",
    "\n",
    "# Access the best hyperparameters\n",
    "best_params = search_ENN.best_params_\n",
    "print(\"Best Hyperparameters:\", best_params)\n",
    "\n",
    "importances = pd.Series(data=search_ENN.best_estimator_.feature_importances_, index=input_cols_res_ENN.columns)\n",
    "\n",
    "# Sort importances\n",
    "importances_sorted = importances.sort_values()\n",
    "\n",
    "# Draw a horizontal barplot of importances_sorted\n",
    "importances_sorted.plot(kind='barh', color='lightgreen')\n",
    "plt.title('Feature Importance of the best Random Forest model with SMOTE-ENN')\n",
    "plt.xlabel('Importance')\n",
    "plt.ylabel('Feature')\n",
    "plt.show()"
   ]
  },
  {
   "cell_type": "code",
   "execution_count": null,
   "metadata": {},
   "outputs": [],
   "source": [
    "#### Normal Random Forest ####"
   ]
  },
  {
   "cell_type": "code",
   "execution_count": 14,
   "metadata": {},
   "outputs": [
    {
     "name": "stdout",
     "output_type": "stream",
     "text": [
      "(16530, 23)\n",
      "(5511, 23)\n",
      "(5510, 23)\n",
      "(5510,)\n",
      "(16530,)\n",
      "(5511,)\n"
     ]
    }
   ],
   "source": [
    "# Splitting the dataset into training and test sets\n",
    "from sklearn.model_selection import train_test_split\n",
    "\n",
    "X_train_ENN, X_test_ENN, y_train_ENN, y_test_ENN = train_test_split(input_cols_res_ENN, target_col_res_ENN, random_state=42, test_size=0.2)\n",
    "\n",
    "# Further splitting the training set into training and validation sets\n",
    "X_train_ENN, X_valid_ENN, y_train_ENN, y_valid_ENN = train_test_split(X_train_ENN, y_train_ENN, random_state=42, test_size=0.25)\n",
    "\n",
    "print(X_train_ENN.shape)\n",
    "print(X_test_ENN.shape)\n",
    "print(X_valid_ENN.shape)\n",
    "print(y_valid_ENN.shape)\n",
    "print(y_train_ENN.shape)\n",
    "print(y_test_ENN.shape)"
   ]
  },
  {
   "cell_type": "code",
   "execution_count": 48,
   "metadata": {},
   "outputs": [
    {
     "name": "stdout",
     "output_type": "stream",
     "text": [
      "F1 Score: 0.9210\n",
      "              precision    recall  f1-score   support\n",
      "\n",
      "           0       0.88      0.92      0.90      2399\n",
      "           1       0.94      0.90      0.92      3111\n",
      "\n",
      "    accuracy                           0.91      5510\n",
      "   macro avg       0.91      0.91      0.91      5510\n",
      "weighted avg       0.91      0.91      0.91      5510\n",
      "\n"
     ]
    }
   ],
   "source": [
    "# First RF model\n",
    "from sklearn.ensemble import RandomForestClassifier\n",
    "from sklearn.metrics import accuracy_score, classification_report\n",
    "from sklearn.metrics import f1_score\n",
    "rf_ENN = RandomForestClassifier(random_state=0).fit(X_train_ENN, y_train_ENN)\n",
    "y_pred_ENN = rf_ENN.predict(X_valid_ENN)\n",
    "\n",
    "# Calculate the F1 score\n",
    "rf_f1_ENN = f1_score(y_valid_ENN, y_pred_ENN)\n",
    "print(\"F1 Score:\", \"{:.4f}\".format(rf_f1_ENN))\n",
    "\n",
    "rf_acc_ENN = accuracy_score(y_valid_ENN, y_pred_ENN)\n",
    "print(classification_report(y_valid_ENN, y_pred_ENN))"
   ]
  },
  {
   "cell_type": "code",
   "execution_count": 16,
   "metadata": {},
   "outputs": [
    {
     "data": {
      "text/plain": [
       "Text(0.5, 1.0, 'Features Importances')"
      ]
     },
     "execution_count": 16,
     "metadata": {},
     "output_type": "execute_result"
    },
    {
     "data": {
      "image/png": "[encoded data removed]",
      "text/plain": [
       "<Figure size 640x480 with 1 Axes>"
      ]
     },
     "metadata": {},
     "output_type": "display_data"
    }
   ],
   "source": [
    "#Feature importance\n",
    "import matplotlib.pyplot as plt\n",
    "importances = pd.Series(data=rf_ENN.feature_importances_, index=X_train_ENN.columns)\n",
    "\n",
    "# Sort importances\n",
    "importances_sorted = importances.sort_values()\n",
    "\n",
    "# Draw a horizontal barplot of importances_sorted\n",
    "importances_sorted.plot(kind='barh', color='lightgreen')\n",
    "plt.title('Features Importances')"
   ]
  },
  {
   "cell_type": "code",
   "execution_count": 17,
   "metadata": {},
   "outputs": [
    {
     "data": {
      "image/png": "[encoded data removed]",
      "text/plain": [
       "<Figure size 640x480 with 1 Axes>"
      ]
     },
     "metadata": {},
     "output_type": "display_data"
    }
   ],
   "source": [
    "import numpy as np\n",
    "import matplotlib.pyplot as plt\n",
    "from sklearn.ensemble import RandomForestClassifier\n",
    "from sklearn.metrics import f1_score\n",
    "\n",
    "# Define a range of values for the number of trees\n",
    "num_trees_range_ENN = [10, 20, 30, 40, 50, 60, 70, 80, 90, 100]\n",
    "\n",
    "# Initialize lists to store F1-scores for training and validation sets\n",
    "train_f1_scores_ENN = []\n",
    "valid_f1_scores_ENN = []\n",
    "\n",
    "# Train RandomForestClassifier models with different numbers of trees\n",
    "for num_trees in num_trees_range_ENN:\n",
    "    # Create and train the model\n",
    "    rf_ENN = RandomForestClassifier(n_estimators=num_trees, random_state=0)\n",
    "    rf_ENN.fit(X_train_ENN, y_train_ENN)\n",
    "    \n",
    "    # Predict on training and validation sets\n",
    "    y_train_pred_ENN = rf_ENN.predict(X_train_ENN)\n",
    "    y_valid_pred_ENN = rf_ENN.predict(X_valid_ENN)\n",
    "    \n",
    "    # Calculate F1-scores for training and validation sets\n",
    "    train_f1_ENN = f1_score(y_train_ENN, y_train_pred_ENN)\n",
    "    valid_f1_ENN = f1_score(y_valid_ENN, y_valid_pred_ENN)\n",
    "    \n",
    "    # Append F1-scores to the lists\n",
    "    train_f1_scores_ENN.append(train_f1_ENN)\n",
    "    valid_f1_scores_ENN.append(valid_f1_ENN)\n",
    "\n",
    "# Plot the F1-scores for training and validation sets against the number of trees\n",
    "plt.plot(num_trees_range_ENN, train_f1_scores_ENN, label='Training F1-score', marker='o')\n",
    "plt.plot(num_trees_range_ENN, valid_f1_scores_ENN, label='Validation F1-score', marker='o')\n",
    "plt.xlabel('Number of Trees')\n",
    "plt.ylabel('F1-score')\n",
    "plt.title('F1-score vs. Number of Trees in Random Forest with SMOTE-ENN')\n",
    "plt.legend()\n",
    "plt.grid(True)\n",
    "plt.show()"
   ]
  },
  {
   "cell_type": "code",
   "execution_count": 49,
   "metadata": {},
   "outputs": [
    {
     "name": "stdout",
     "output_type": "stream",
     "text": [
      "F1 Score on Test Set: 0.9161\n",
      "Classification Report on Test Set:\n",
      "              precision    recall  f1-score   support\n",
      "\n",
      "           0       0.88      0.93      0.90      2436\n",
      "           1       0.94      0.90      0.92      3075\n",
      "\n",
      "    accuracy                           0.91      5511\n",
      "   macro avg       0.91      0.91      0.91      5511\n",
      "weighted avg       0.91      0.91      0.91      5511\n",
      "\n"
     ]
    }
   ],
   "source": [
    "# Predict labels on the test set\n",
    "y_pred_test_ENN = rf_ENN.predict(X_test_ENN)\n",
    "\n",
    "# Calculate the F1 score on the test set\n",
    "rf_f1_test_ENN = f1_score(y_test_ENN, y_pred_test_ENN)\n",
    "print(\"F1 Score on Test Set:\", \"{:.4f}\".format(rf_f1_test_ENN))\n",
    "\n",
    "print(\"Classification Report on Test Set:\")\n",
    "print(classification_report(y_test_ENN, y_pred_test_ENN))"
   ]
  },
  {
   "cell_type": "code",
   "execution_count": null,
   "metadata": {},
   "outputs": [],
   "source": [
    "#### Bagging ####"
   ]
  },
  {
   "cell_type": "code",
   "execution_count": 50,
   "metadata": {},
   "outputs": [
    {
     "name": "stdout",
     "output_type": "stream",
     "text": [
      "F1 Score: 0.9150\n",
      "Classification Report:\n",
      "              precision    recall  f1-score   support\n",
      "\n",
      "           0       0.87      0.93      0.90      2399\n",
      "           1       0.94      0.89      0.92      3111\n",
      "\n",
      "    accuracy                           0.91      5510\n",
      "   macro avg       0.90      0.91      0.91      5510\n",
      "weighted avg       0.91      0.91      0.91      5510\n",
      "\n"
     ]
    }
   ],
   "source": [
    "# Normal RF with bagging (10 bags) for SMOTE-ENN\n",
    "from sklearn.ensemble import RandomForestClassifier, BaggingClassifier\n",
    "from sklearn.metrics import accuracy_score, classification_report\n",
    "\n",
    "# Create the RandomForestClassifier with 60 trees\n",
    "base_classifier = RandomForestClassifier(n_estimators=60, max_features=None, random_state=0)\n",
    "\n",
    "\n",
    "# Create a BaggingClassifier\n",
    "bagging_classifier = BaggingClassifier(base_classifier, n_estimators=10, random_state=0)\n",
    "\n",
    "# Train the BaggingClassifier\n",
    "bagging_classifier.fit(X_train_ENN, y_train_ENN)\n",
    "\n",
    "# Predict using the BaggingClassifier\n",
    "y_pred_ENN = bagging_classifier.predict(X_valid_ENN)\n",
    "\n",
    "# Calculate the f1-score and print classification report\n",
    "bagging_f1_ENN = f1_score(y_valid_ENN, y_pred_ENN)\n",
    "print(\"F1 Score:\", \"{:.4f}\".format(bagging_f1_ENN))\n",
    "print(\"Classification Report:\")\n",
    "print(classification_report(y_valid_ENN, y_pred_ENN))"
   ]
  },
  {
   "cell_type": "code",
   "execution_count": 51,
   "metadata": {},
   "outputs": [
    {
     "name": "stdout",
     "output_type": "stream",
     "text": [
      "F1 Score: 0.9135\n",
      "Classification Report for Test Set:\n",
      "              precision    recall  f1-score   support\n",
      "\n",
      "           0       0.87      0.93      0.90      2436\n",
      "           1       0.94      0.89      0.91      3075\n",
      "\n",
      "    accuracy                           0.91      5511\n",
      "   macro avg       0.90      0.91      0.91      5511\n",
      "weighted avg       0.91      0.91      0.91      5511\n",
      "\n"
     ]
    }
   ],
   "source": [
    "# Predict using the BaggingClassifier on the test set\n",
    "y_pred_ENN_10_test = bagging_classifier.predict(X_test_ENN)\n",
    "\n",
    "# Calculate the F1-score and print classification report for the test set\n",
    "bagging_f1_ENN_10_test = f1_score(y_test_ENN, y_pred_ENN_10_test)\n",
    "print(\"F1 Score:\", \"{:.4f}\".format(bagging_f1_ENN_10_test))\n",
    "\n",
    "print(\"Classification Report for Test Set:\")\n",
    "print(classification_report(y_test_ENN, y_pred_ENN_10_test))"
   ]
  },
  {
   "cell_type": "code",
   "execution_count": 52,
   "metadata": {},
   "outputs": [
    {
     "name": "stdout",
     "output_type": "stream",
     "text": [
      "F1 Score: 0.9138\n",
      "Classification Report:\n",
      "              precision    recall  f1-score   support\n",
      "\n",
      "           0       0.86      0.93      0.90      2399\n",
      "           1       0.94      0.89      0.91      3111\n",
      "\n",
      "    accuracy                           0.91      5510\n",
      "   macro avg       0.90      0.91      0.90      5510\n",
      "weighted avg       0.91      0.91      0.91      5510\n",
      "\n"
     ]
    }
   ],
   "source": [
    "# Normal RF with bagging (25 bags) for SMOTE-ENN\n",
    "from sklearn.ensemble import RandomForestClassifier, BaggingClassifier\n",
    "from sklearn.metrics import accuracy_score, classification_report\n",
    "\n",
    "# Create the RandomForestClassifier with 60 trees\n",
    "base_classifier = RandomForestClassifier(n_estimators=60, max_features=None, random_state=0)\n",
    "\n",
    "# Create a BaggingClassifier\n",
    "bagging_classifier_25 = BaggingClassifier(base_classifier, n_estimators=25, random_state=0)\n",
    "\n",
    "# Train the BaggingClassifier\n",
    "bagging_classifier_25.fit(X_train_ENN, y_train_ENN)\n",
    "\n",
    "# Predict using the BaggingClassifier\n",
    "y_pred_ENN_25 = bagging_classifier_25.predict(X_valid_ENN)\n",
    "\n",
    "# Calculate the F1-score and print classification report\n",
    "bagging_f1_ENN_25 = f1_score(y_valid_ENN, y_pred_ENN_25)\n",
    "print(\"F1 Score:\", \"{:.4f}\".format(bagging_f1_ENN_25))\n",
    "\n",
    "print(\"Classification Report:\")\n",
    "print(classification_report(y_valid_ENN, y_pred_ENN_25))"
   ]
  },
  {
   "cell_type": "code",
   "execution_count": 53,
   "metadata": {},
   "outputs": [
    {
     "name": "stdout",
     "output_type": "stream",
     "text": [
      "F1 Score: 0.9123\n",
      "Classification Report for Test Set:\n",
      "              precision    recall  f1-score   support\n",
      "\n",
      "           0       0.87      0.93      0.90      2436\n",
      "           1       0.94      0.89      0.91      3075\n",
      "\n",
      "    accuracy                           0.90      5511\n",
      "   macro avg       0.90      0.91      0.90      5511\n",
      "weighted avg       0.91      0.90      0.91      5511\n",
      "\n"
     ]
    }
   ],
   "source": [
    "# Predict using the BaggingClassifier on the test set\n",
    "y_pred_ENN_25_test = bagging_classifier_25.predict(X_test_ENN)\n",
    "\n",
    "# Calculate the F1-score and print classification report for the test set\n",
    "bagging_f1_ENN_25_test = f1_score(y_test_ENN, y_pred_ENN_25_test)\n",
    "print(\"F1 Score:\", \"{:.4f}\".format(bagging_f1_ENN_25_test))\n",
    "\n",
    "print(\"Classification Report for Test Set:\")\n",
    "print(classification_report(y_test_ENN, y_pred_ENN_25_test))"
   ]
  },
  {
   "cell_type": "code",
   "execution_count": 54,
   "metadata": {},
   "outputs": [
    {
     "name": "stdout",
     "output_type": "stream",
     "text": [
      "F1 Score: 0.9154\n",
      "Classification Report:\n",
      "              precision    recall  f1-score   support\n",
      "\n",
      "           0       0.87      0.93      0.90      2399\n",
      "           1       0.94      0.89      0.92      3111\n",
      "\n",
      "    accuracy                           0.91      5510\n",
      "   macro avg       0.90      0.91      0.91      5510\n",
      "weighted avg       0.91      0.91      0.91      5510\n",
      "\n"
     ]
    }
   ],
   "source": [
    "# Normal RF with bagging (60 bags) for SMOTE-ENN\n",
    "from sklearn.ensemble import RandomForestClassifier, BaggingClassifier\n",
    "from sklearn.metrics import accuracy_score, classification_report\n",
    "\n",
    "# Create the RandomForestClassifier with 60 trees\n",
    "base_classifier = RandomForestClassifier(n_estimators=60, max_features=None, random_state=0)\n",
    "\n",
    "# Create a BaggingClassifier\n",
    "bagging_classifier_60 = BaggingClassifier(base_classifier, n_estimators=60, random_state=0)\n",
    "\n",
    "# Train the BaggingClassifier\n",
    "bagging_classifier_60.fit(X_train_ENN, y_train_ENN)\n",
    "\n",
    "# Predict using the BaggingClassifier\n",
    "y_pred_ENN_60 = bagging_classifier_60.predict(X_valid_ENN)\n",
    "\n",
    "# Calculate the F1-score and print classification report\n",
    "bagging_f1_ENN_60 = f1_score(y_valid_ENN, y_pred_ENN_60)\n",
    "print(\"F1 Score:\", \"{:.4f}\".format(bagging_f1_ENN_60))\n",
    "\n",
    "print(\"Classification Report:\")\n",
    "print(classification_report(y_valid_ENN, y_pred_ENN_60))"
   ]
  },
  {
   "cell_type": "code",
   "execution_count": 55,
   "metadata": {},
   "outputs": [
    {
     "name": "stdout",
     "output_type": "stream",
     "text": [
      "F1 Score: 0.9153\n",
      "Classification Report for Test Set:\n",
      "              precision    recall  f1-score   support\n",
      "\n",
      "           0       0.87      0.93      0.90      2436\n",
      "           1       0.94      0.89      0.92      3075\n",
      "\n",
      "    accuracy                           0.91      5511\n",
      "   macro avg       0.91      0.91      0.91      5511\n",
      "weighted avg       0.91      0.91      0.91      5511\n",
      "\n"
     ]
    }
   ],
   "source": [
    "# Predict using the BaggingClassifier on the test set\n",
    "y_pred_ENN_60_test = bagging_classifier_60.predict(X_test_ENN)\n",
    "\n",
    "# Calculate the F1-score and print classification report for the test set\n",
    "bagging_f1_ENN_60_test = f1_score(y_test_ENN, y_pred_ENN_60_test)\n",
    "print(\"F1 Score:\", \"{:.4f}\".format(bagging_f1_ENN_60_test))\n",
    "\n",
    "print(\"Classification Report for Test Set:\")\n",
    "print(classification_report(y_test_ENN, y_pred_ENN_60_test))"
   ]
  },
  {
   "cell_type": "code",
   "execution_count": 59,
   "metadata": {},
   "outputs": [
    {
     "name": "stdout",
     "output_type": "stream",
     "text": [
      "Recall: 0.8911\n",
      "Accuracy: 0.9080\n",
      "Precision: 0.9409\n"
     ]
    }
   ],
   "source": [
    "from sklearn.metrics import precision_score, recall_score, accuracy_score\n",
    "\n",
    "# Calculate recall, accuracy, and precision on the test set\n",
    "recall_ENN_60_test = recall_score(y_test_ENN, y_pred_ENN_60_test)\n",
    "print(\"Recall:\", \"{:.4f}\".format(recall_ENN_60_test))\n",
    "\n",
    "accuracy_ENN_60_test = accuracy_score(y_test_ENN, y_pred_ENN_60_test)\n",
    "print(\"Accuracy:\", \"{:.4f}\".format(accuracy_ENN_60_test))\n",
    "\n",
    "precision_ENN_60_test = precision_score(y_test_ENN, y_pred_ENN_60_test)\n",
    "print(\"Precision:\", \"{:.4f}\".format(precision_ENN_60_test))\n"
   ]
  },
  {
   "cell_type": "code",
   "execution_count": 57,
   "metadata": {},
   "outputs": [
    {
     "name": "stdout",
     "output_type": "stream",
     "text": [
      "F1 Score: 0.9149\n",
      "Classification Report:\n",
      "              precision    recall  f1-score   support\n",
      "\n",
      "           0       0.87      0.93      0.90      2399\n",
      "           1       0.94      0.89      0.91      3111\n",
      "\n",
      "    accuracy                           0.91      5510\n",
      "   macro avg       0.90      0.91      0.91      5510\n",
      "weighted avg       0.91      0.91      0.91      5510\n",
      "\n"
     ]
    }
   ],
   "source": [
    "# Normal RF with bagging (120 bags) for SMOTE-ENN\n",
    "from sklearn.ensemble import RandomForestClassifier, BaggingClassifier\n",
    "from sklearn.metrics import accuracy_score, classification_report\n",
    "\n",
    "# Create the RandomForestClassifier with 60 trees\n",
    "base_classifier = RandomForestClassifier(n_estimators=60, max_features=None, random_state=0)\n",
    "\n",
    "# Create a BaggingClassifier\n",
    "bagging_classifier_120 = BaggingClassifier(base_classifier, n_estimators=120, random_state=0)\n",
    "\n",
    "# Train the BaggingClassifier\n",
    "bagging_classifier_120.fit(X_train_ENN, y_train_ENN)\n",
    "\n",
    "# Predict using the BaggingClassifier\n",
    "y_pred_ENN_120 = bagging_classifier_120.predict(X_valid_ENN)\n",
    "\n",
    "# Calculate the F1-score and print classification report\n",
    "bagging_f1_ENN_120 = f1_score(y_valid_ENN, y_pred_ENN_120)\n",
    "print(\"F1 Score:\", \"{:.4f}\".format(bagging_f1_ENN_120))\n",
    "\n",
    "print(\"Classification Report:\")\n",
    "print(classification_report(y_valid_ENN, y_pred_ENN_120))"
   ]
  },
  {
   "cell_type": "code",
   "execution_count": 58,
   "metadata": {},
   "outputs": [
    {
     "name": "stdout",
     "output_type": "stream",
     "text": [
      "F1 Score: 0.9149\n",
      "Classification Report for Test Set:\n",
      "              precision    recall  f1-score   support\n",
      "\n",
      "           0       0.87      0.93      0.90      2436\n",
      "           1       0.94      0.89      0.91      3075\n",
      "\n",
      "    accuracy                           0.91      5511\n",
      "   macro avg       0.91      0.91      0.91      5511\n",
      "weighted avg       0.91      0.91      0.91      5511\n",
      "\n"
     ]
    }
   ],
   "source": [
    "# Predict using the BaggingClassifier on the test set\n",
    "y_pred_ENN_120_test = bagging_classifier_120.predict(X_test_ENN)\n",
    "\n",
    "# Calculate the F1-score and print classification report for the test set\n",
    "bagging_f1_ENN_120_test = f1_score(y_test_ENN, y_pred_ENN_120_test)\n",
    "print(\"F1 Score:\", \"{:.4f}\".format(bagging_f1_ENN_120_test))\n",
    "\n",
    "print(\"Classification Report for Test Set:\")\n",
    "print(classification_report(y_test_ENN, y_pred_ENN_120_test))"
   ]
  },
  {
   "cell_type": "code",
   "execution_count": 9,
   "metadata": {},
   "outputs": [
    {
     "name": "stdout",
     "output_type": "stream",
     "text": [
      "Training Reports:\n",
      "               precision    recall  f1-score   support\n",
      "\n",
      "           0   0.880167  0.928630  0.903749     10915\n",
      "           1   0.941336  0.900576  0.920505     13880\n",
      "\n",
      "    accuracy                       0.912926     24795\n",
      "   macro avg   0.910751  0.914603  0.912127     24795\n",
      "weighted avg   0.914409  0.912926  0.913129     24795\n",
      "\n",
      "              precision    recall  f1-score   support\n",
      "\n",
      "           0   0.881689  0.927599  0.904062     10870\n",
      "           1   0.941093  0.902844  0.921572     13926\n",
      "\n",
      "    accuracy                       0.913696     24796\n",
      "   macro avg   0.911391  0.915221  0.912817     24796\n",
      "weighted avg   0.915052  0.913696  0.913896     24796\n",
      "\n",
      "              precision    recall  f1-score   support\n",
      "\n",
      "           0   0.879826  0.929621  0.904039     10884\n",
      "           1   0.942389  0.900661  0.921053     13912\n",
      "\n",
      "    accuracy                       0.913373     24796\n",
      "   macro avg   0.911107  0.915141  0.912546     24796\n",
      "weighted avg   0.914927  0.913373  0.913584     24796\n",
      "\n",
      "              precision    recall  f1-score   support\n",
      "\n",
      "           0   0.878362  0.930757  0.903801     10947\n",
      "           1   0.942558  0.898115  0.919800     13849\n",
      "\n",
      "    accuracy                       0.912526     24796\n",
      "   macro avg   0.910460  0.914436  0.911801     24796\n",
      "weighted avg   0.914217  0.912526  0.912737     24796\n",
      "\n",
      "              precision    recall  f1-score   support\n",
      "\n",
      "           0   0.880749  0.933766  0.906483     10931\n",
      "           1   0.945181  0.900325  0.922207     13865\n",
      "\n",
      "    accuracy                       0.915067     24796\n",
      "   macro avg   0.912965  0.917045  0.914345     24796\n",
      "weighted avg   0.916777  0.915067  0.915276     24796\n",
      "\n",
      "              precision    recall  f1-score   support\n",
      "\n",
      "           0   0.877143  0.933780  0.904576     10903\n",
      "           1   0.945257  0.897358  0.920685     13893\n",
      "\n",
      "    accuracy                       0.913373     24796\n",
      "   macro avg   0.911200  0.915569  0.912631     24796\n",
      "weighted avg   0.915307  0.913373  0.913602     24796\n",
      "\n",
      "              precision    recall  f1-score   support\n",
      "\n",
      "           0   0.875418  0.932080  0.902861     10954\n",
      "           1   0.943349  0.895030  0.918554     13842\n",
      "\n",
      "    accuracy                       0.911397     24796\n",
      "   macro avg   0.909383  0.913555  0.910707     24796\n",
      "weighted avg   0.913339  0.911397  0.911621     24796\n",
      "\n",
      "              precision    recall  f1-score   support\n",
      "\n",
      "           0   0.878074  0.929995  0.903289     10942\n",
      "           1   0.942000  0.898008  0.919478     13854\n",
      "\n",
      "    accuracy                       0.912123     24796\n",
      "   macro avg   0.910037  0.914001  0.911384     24796\n",
      "weighted avg   0.913791  0.912123  0.912334     24796\n",
      "\n",
      "              precision    recall  f1-score   support\n",
      "\n",
      "           0   0.881285  0.928624  0.904335     10928\n",
      "           1   0.941269  0.901428  0.920918     13868\n",
      "\n",
      "    accuracy                       0.913413     24796\n",
      "   macro avg   0.911277  0.915026  0.912627     24796\n",
      "weighted avg   0.914833  0.913413  0.913610     24796\n",
      "\n",
      "              precision    recall  f1-score   support\n",
      "\n",
      "           0   0.877038  0.928998  0.902270     10887\n",
      "           1   0.941722  0.898052  0.919368     13909\n",
      "\n",
      "    accuracy                       0.911639     24796\n",
      "   macro avg   0.909380  0.913525  0.910819     24796\n",
      "weighted avg   0.913322  0.911639  0.911861     24796\n",
      "\n",
      "Validation Reports:\n",
      "               precision    recall  f1-score   support\n",
      "\n",
      "           0   0.999817  1.000000  0.999908     10915\n",
      "           1   1.000000  0.999856  0.999928     13880\n",
      "\n",
      "    accuracy                       0.999919     24795\n",
      "   macro avg   0.999908  0.999928  0.999918     24795\n",
      "weighted avg   0.999919  0.999919  0.999919     24795\n",
      "\n",
      "              precision    recall  f1-score   support\n",
      "\n",
      "           0   1.000000  1.000000  1.000000     10870\n",
      "           1   1.000000  1.000000  1.000000     13926\n",
      "\n",
      "    accuracy                       1.000000     24796\n",
      "   macro avg   1.000000  1.000000  1.000000     24796\n",
      "weighted avg   1.000000  1.000000  1.000000     24796\n",
      "\n",
      "              precision    recall  f1-score   support\n",
      "\n",
      "           0   1.000000  0.999816  0.999908     10884\n",
      "           1   0.999856  1.000000  0.999928     13912\n",
      "\n",
      "    accuracy                       0.999919     24796\n",
      "   macro avg   0.999928  0.999908  0.999918     24796\n",
      "weighted avg   0.999919  0.999919  0.999919     24796\n",
      "\n",
      "              precision    recall  f1-score   support\n",
      "\n",
      "           0   1.000000  1.000000  1.000000     10947\n",
      "           1   1.000000  1.000000  1.000000     13849\n",
      "\n",
      "    accuracy                       1.000000     24796\n",
      "   macro avg   1.000000  1.000000  1.000000     24796\n",
      "weighted avg   1.000000  1.000000  1.000000     24796\n",
      "\n",
      "              precision    recall  f1-score   support\n",
      "\n",
      "           0   0.999909  1.000000  0.999954     10931\n",
      "           1   1.000000  0.999928  0.999964     13865\n",
      "\n",
      "    accuracy                       0.999960     24796\n",
      "   macro avg   0.999954  0.999964  0.999959     24796\n",
      "weighted avg   0.999960  0.999960  0.999960     24796\n",
      "\n",
      "              precision    recall  f1-score   support\n",
      "\n",
      "           0   0.999908  1.000000  0.999954     10903\n",
      "           1   1.000000  0.999928  0.999964     13893\n",
      "\n",
      "    accuracy                       0.999960     24796\n",
      "   macro avg   0.999954  0.999964  0.999959     24796\n",
      "weighted avg   0.999960  0.999960  0.999960     24796\n",
      "\n",
      "              precision    recall  f1-score   support\n",
      "\n",
      "           0   1.000000  1.000000  1.000000     10954\n",
      "           1   1.000000  1.000000  1.000000     13842\n",
      "\n",
      "    accuracy                       1.000000     24796\n",
      "   macro avg   1.000000  1.000000  1.000000     24796\n",
      "weighted avg   1.000000  1.000000  1.000000     24796\n",
      "\n",
      "              precision    recall  f1-score   support\n",
      "\n",
      "           0   1.000000  0.999909  0.999954     10942\n",
      "           1   0.999928  1.000000  0.999964     13854\n",
      "\n",
      "    accuracy                       0.999960     24796\n",
      "   macro avg   0.999964  0.999954  0.999959     24796\n",
      "weighted avg   0.999960  0.999960  0.999960     24796\n",
      "\n",
      "              precision    recall  f1-score   support\n",
      "\n",
      "           0   0.999909  1.000000  0.999954     10928\n",
      "           1   1.000000  0.999928  0.999964     13868\n",
      "\n",
      "    accuracy                       0.999960     24796\n",
      "   macro avg   0.999954  0.999964  0.999959     24796\n",
      "weighted avg   0.999960  0.999960  0.999960     24796\n",
      "\n",
      "              precision    recall  f1-score   support\n",
      "\n",
      "           0   1.000000  0.999908  0.999954     10887\n",
      "           1   0.999928  1.000000  0.999964     13909\n",
      "\n",
      "    accuracy                       0.999960     24796\n",
      "   macro avg   0.999964  0.999954  0.999959     24796\n",
      "weighted avg   0.999960  0.999960  0.999960     24796\n",
      "\n",
      "Test Reports:\n",
      "               precision    recall  f1-score   support\n",
      "\n",
      "           0   0.898438  0.947282  0.922213      1214\n",
      "           1   0.956640  0.915694  0.935719      1542\n",
      "\n",
      "    accuracy                       0.929608      2756\n",
      "   macro avg   0.927539  0.931488  0.928966      2756\n",
      "weighted avg   0.931002  0.929608  0.929770      2756\n",
      "\n",
      "              precision    recall  f1-score   support\n",
      "\n",
      "           0   0.916731  0.944400  0.930360      1259\n",
      "           1   0.951989  0.927807  0.939743      1496\n",
      "\n",
      "    accuracy                       0.935390      2755\n",
      "   macro avg   0.934360  0.936104  0.935051      2755\n",
      "weighted avg   0.935877  0.935390  0.935455      2755\n",
      "\n",
      "              precision    recall  f1-score   support\n",
      "\n",
      "           0   0.913146  0.937349  0.925089      1245\n",
      "           1   0.947190  0.926490  0.936726      1510\n",
      "\n",
      "    accuracy                       0.931397      2755\n",
      "   macro avg   0.930168  0.931920  0.930907      2755\n",
      "weighted avg   0.931805  0.931397  0.931467      2755\n",
      "\n",
      "              precision    recall  f1-score   support\n",
      "\n",
      "           0   0.890938  0.939932  0.914780      1182\n",
      "           1   0.952918  0.913541  0.932814      1573\n",
      "\n",
      "    accuracy                       0.924864      2755\n",
      "   macro avg   0.921928  0.926737  0.923797      2755\n",
      "weighted avg   0.926326  0.924864  0.925077      2755\n",
      "\n",
      "              precision    recall  f1-score   support\n",
      "\n",
      "           0   0.898481  0.938230  0.917926      1198\n",
      "           1   0.950798  0.918433  0.934335      1557\n",
      "\n",
      "    accuracy                       0.927042      2755\n",
      "   macro avg   0.924640  0.928332  0.926130      2755\n",
      "weighted avg   0.928048  0.927042  0.927200      2755\n",
      "\n",
      "              precision    recall  f1-score   support\n",
      "\n",
      "           0   0.903906  0.943719  0.923384      1226\n",
      "           1   0.953220  0.919555  0.936085      1529\n",
      "\n",
      "    accuracy                       0.930309      2755\n",
      "   macro avg   0.928563  0.931637  0.929735      2755\n",
      "weighted avg   0.931275  0.930309  0.930433      2755\n",
      "\n",
      "              precision    recall  f1-score   support\n",
      "\n",
      "           0   0.906744  0.926809  0.916667      1175\n",
      "           1   0.944659  0.929114  0.936822      1580\n",
      "\n",
      "    accuracy                       0.928131      2755\n",
      "   macro avg   0.925702  0.927961  0.926744      2755\n",
      "weighted avg   0.928488  0.928131  0.928226      2755\n",
      "\n",
      "              precision    recall  f1-score   support\n",
      "\n",
      "           0   0.896249  0.946083  0.920492      1187\n",
      "           1   0.957390  0.917092  0.936808      1568\n",
      "\n",
      "    accuracy                       0.929583      2755\n",
      "   macro avg   0.926820  0.931587  0.928650      2755\n",
      "weighted avg   0.931047  0.929583  0.929778      2755\n",
      "\n",
      "              precision    recall  f1-score   support\n",
      "\n",
      "           0   0.894277  0.936719  0.915006      1201\n",
      "           1   0.949232  0.914414  0.931498      1554\n",
      "\n",
      "    accuracy                       0.924138      2755\n",
      "   macro avg   0.921754  0.925567  0.923252      2755\n",
      "weighted avg   0.925275  0.924138  0.924309      2755\n",
      "\n",
      "              precision    recall  f1-score   support\n",
      "\n",
      "           0   0.903817  0.953301  0.927900      1242\n",
      "           1   0.959862  0.916722  0.937796      1513\n",
      "\n",
      "    accuracy                       0.933212      2755\n",
      "   macro avg   0.931839  0.935011  0.932848      2755\n",
      "weighted avg   0.934596  0.933212  0.933334      2755\n",
      "\n"
     ]
    }
   ],
   "source": [
    "import numpy as np\n",
    "import pandas as pd\n",
    "from sklearn.datasets import make_classification\n",
    "from sklearn.model_selection import KFold, GridSearchCV, cross_val_predict\n",
    "from sklearn.ensemble import RandomForestClassifier\n",
    "from sklearn.metrics import classification_report\n",
    "\n",
    "# Configure the cross-validation procedure\n",
    "cv_inner = KFold(n_splits=3, shuffle=True, random_state=42)\n",
    "cv_outer = KFold(n_splits=10, shuffle=True, random_state=1)\n",
    "\n",
    "# Define the model\n",
    "model = RandomForestClassifier(random_state=42)\n",
    "\n",
    "# Define search space\n",
    "space = dict()\n",
    "space['n_estimators'] = [40, 50, 60]\n",
    "space['max_features'] = [None, 5, 10]\n",
    "\n",
    "# Initialize lists to hold classification reports\n",
    "train_reports = []\n",
    "valid_reports = []\n",
    "test_reports = []\n",
    "\n",
    "# Perform nested cross-validation\n",
    "for train_index, test_index in cv_outer.split(input_cols_res_ENN):\n",
    "    X_train, X_test = input_cols_res_ENN.iloc[train_index], input_cols_res_ENN.iloc[test_index]\n",
    "    y_train, y_test = target_col_res_ENN.iloc[train_index], target_col_res_ENN.iloc[test_index]\n",
    "\n",
    "    # Inner loop: GridSearchCV with inner cross-validation\n",
    "    search = GridSearchCV(model, space, scoring='f1', cv=cv_inner, n_jobs=1)\n",
    "    search.fit(X_train, y_train)\n",
    "    \n",
    "    # Get the best estimator from the grid search\n",
    "    best_estimator = search.best_estimator_\n",
    "\n",
    "    # Predict on the training set using cross-validation\n",
    "    y_train_pred = cross_val_predict(best_estimator, X_train, y_train, cv=cv_inner)\n",
    "\n",
    "    # Predict on the validation set (held-out fold during inner CV)\n",
    "    y_valid_pred = search.predict(X_train)\n",
    "    \n",
    "    # Predict on the test (outer CV) set\n",
    "    y_test_pred = best_estimator.predict(X_test)\n",
    "    \n",
    "    # Generate classification reports\n",
    "    train_report = classification_report(y_train, y_train_pred, digits=6)\n",
    "    valid_report = classification_report(y_train, y_valid_pred, digits=6)\n",
    "    test_report = classification_report(y_test, y_test_pred, digits=6)\n",
    "\n",
    "    train_reports.append(train_report)\n",
    "    valid_reports.append(valid_report)\n",
    "    test_reports.append(test_report)\n",
    "\n",
    "# Display the reports\n",
    "print(\"Training Reports:\\n\", \"\\n\".join(train_reports))\n",
    "print(\"Validation Reports:\\n\", \"\\n\".join(valid_reports))\n",
    "print(\"Test Reports:\\n\", \"\\n\".join(test_reports))"
   ]
  }
 ],
 "metadata": {
  "kernelspec": {
   "display_name": "base",
   "language": "python",
   "name": "python3"
  },
  "language_info": {
   "codemirror_mode": {
    "name": "ipython",
    "version": 3
   },
   "file_extension": ".py",
   "mimetype": "text/x-python",
   "name": "python",
   "nbconvert_exporter": "python",
   "pygments_lexer": "ipython3",
   "version": "3.11.4"
  }
 },
 "nbformat": 4,
 "nbformat_minor": 2
}
